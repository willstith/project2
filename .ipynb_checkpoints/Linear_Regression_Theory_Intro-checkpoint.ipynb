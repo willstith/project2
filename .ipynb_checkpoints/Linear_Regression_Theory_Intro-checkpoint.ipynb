{
 "cells": [
  {
   "cell_type": "markdown",
   "metadata": {
    "slideshow": {
     "slide_type": "slide"
    }
   },
   "source": [
    "# Linear Regression Theory Lab\n",
    "\n",
    "In this lab, we cover the basics of linear regression, with examples of Python implementation in [sklearn](https://scikit-learn.org/stable/modules/generated/sklearn.linear_model.LinearRegression.html) and [Statsmodels](http://scikit-learn.org/stable/modules/generated/sklearn.linear_model.LinearRegression.html) on the [Anscombe dataset](https://en.wikipedia.org/wiki/Anscombe%27s_quartet) and [FRED House Price Index](https://fred.stlouisfed.org/series/USSTHPI) data. This is a primer for the `linear-regression-code-intro` module."
   ]
  },
  {
   "cell_type": "markdown",
   "metadata": {
    "slideshow": {
     "slide_type": "slide"
    }
   },
   "source": [
    "## Objectives:\n",
    "Students will be able to:\n",
    "1. Apply Linear Regression to the framework taught in the Machine Learning intro lesson.\n",
    "2. Interpret the coefficients of a linear regression model.\n",
    "3. Fit linear regression models using either scikit-learn or statsmodels.\n",
    "4. Predict out-of-sample using a model.\n",
    "5. Recognize and explain limits of models:\n",
    "  * Models do not determine causation.\n",
    "  * Models cannot substitute for understanding data."
   ]
  },
  {
   "cell_type": "code",
   "execution_count": 1,
   "metadata": {
    "slideshow": {
     "slide_type": "slide"
    }
   },
   "outputs": [
    {
     "name": "stdout",
     "output_type": "stream",
     "text": [
      "Populating the interactive namespace from numpy and matplotlib\n"
     ]
    }
   ],
   "source": [
    "#######################\n",
    "# standard code block #\n",
    "#######################\n",
    "\n",
    "# see https://ipython.readthedocs.io/en/stable/interactive/magics.html\n",
    "%pylab inline\n",
    "%config InlineBackend.figure_formats = ['retina']\n",
    "\n",
    "#######################\n",
    "#       imports       #\n",
    "#######################\n",
    "import pandas as pd\n",
    "import seaborn as sns\n",
    "# import sklearn\n",
    "\n",
    "sns.set_style(\"whitegrid\", {\"font.family\": [\"serif\"]})\n",
    "sns.set_context(\"talk\") # talk context is good for RISE presentations"
   ]
  },
  {
   "cell_type": "code",
   "execution_count": 2,
   "metadata": {
    "slideshow": {
     "slide_type": "slide"
    }
   },
   "outputs": [
    {
     "data": {
      "text/html": [
       "<div>\n",
       "<style scoped>\n",
       "    .dataframe tbody tr th:only-of-type {\n",
       "        vertical-align: middle;\n",
       "    }\n",
       "\n",
       "    .dataframe tbody tr th {\n",
       "        vertical-align: top;\n",
       "    }\n",
       "\n",
       "    .dataframe thead th {\n",
       "        text-align: right;\n",
       "    }\n",
       "</style>\n",
       "<table border=\"1\" class=\"dataframe\">\n",
       "  <thead>\n",
       "    <tr style=\"text-align: right;\">\n",
       "      <th></th>\n",
       "      <th>dataset</th>\n",
       "      <th>x</th>\n",
       "      <th>y</th>\n",
       "    </tr>\n",
       "  </thead>\n",
       "  <tbody>\n",
       "    <tr>\n",
       "      <th>0</th>\n",
       "      <td>I</td>\n",
       "      <td>10.0</td>\n",
       "      <td>8.04</td>\n",
       "    </tr>\n",
       "    <tr>\n",
       "      <th>1</th>\n",
       "      <td>I</td>\n",
       "      <td>8.0</td>\n",
       "      <td>6.95</td>\n",
       "    </tr>\n",
       "    <tr>\n",
       "      <th>2</th>\n",
       "      <td>I</td>\n",
       "      <td>13.0</td>\n",
       "      <td>7.58</td>\n",
       "    </tr>\n",
       "    <tr>\n",
       "      <th>3</th>\n",
       "      <td>I</td>\n",
       "      <td>9.0</td>\n",
       "      <td>8.81</td>\n",
       "    </tr>\n",
       "    <tr>\n",
       "      <th>4</th>\n",
       "      <td>I</td>\n",
       "      <td>11.0</td>\n",
       "      <td>8.33</td>\n",
       "    </tr>\n",
       "    <tr>\n",
       "      <th>5</th>\n",
       "      <td>I</td>\n",
       "      <td>14.0</td>\n",
       "      <td>9.96</td>\n",
       "    </tr>\n",
       "    <tr>\n",
       "      <th>6</th>\n",
       "      <td>I</td>\n",
       "      <td>6.0</td>\n",
       "      <td>7.24</td>\n",
       "    </tr>\n",
       "    <tr>\n",
       "      <th>7</th>\n",
       "      <td>I</td>\n",
       "      <td>4.0</td>\n",
       "      <td>4.26</td>\n",
       "    </tr>\n",
       "    <tr>\n",
       "      <th>8</th>\n",
       "      <td>I</td>\n",
       "      <td>12.0</td>\n",
       "      <td>10.84</td>\n",
       "    </tr>\n",
       "    <tr>\n",
       "      <th>9</th>\n",
       "      <td>I</td>\n",
       "      <td>7.0</td>\n",
       "      <td>4.82</td>\n",
       "    </tr>\n",
       "    <tr>\n",
       "      <th>10</th>\n",
       "      <td>I</td>\n",
       "      <td>5.0</td>\n",
       "      <td>5.68</td>\n",
       "    </tr>\n",
       "    <tr>\n",
       "      <th>11</th>\n",
       "      <td>II</td>\n",
       "      <td>10.0</td>\n",
       "      <td>9.14</td>\n",
       "    </tr>\n",
       "    <tr>\n",
       "      <th>12</th>\n",
       "      <td>II</td>\n",
       "      <td>8.0</td>\n",
       "      <td>8.14</td>\n",
       "    </tr>\n",
       "    <tr>\n",
       "      <th>13</th>\n",
       "      <td>II</td>\n",
       "      <td>13.0</td>\n",
       "      <td>8.74</td>\n",
       "    </tr>\n",
       "    <tr>\n",
       "      <th>14</th>\n",
       "      <td>II</td>\n",
       "      <td>9.0</td>\n",
       "      <td>8.77</td>\n",
       "    </tr>\n",
       "  </tbody>\n",
       "</table>\n",
       "</div>"
      ],
      "text/plain": [
       "   dataset     x      y\n",
       "0        I  10.0   8.04\n",
       "1        I   8.0   6.95\n",
       "2        I  13.0   7.58\n",
       "3        I   9.0   8.81\n",
       "4        I  11.0   8.33\n",
       "5        I  14.0   9.96\n",
       "6        I   6.0   7.24\n",
       "7        I   4.0   4.26\n",
       "8        I  12.0  10.84\n",
       "9        I   7.0   4.82\n",
       "10       I   5.0   5.68\n",
       "11      II  10.0   9.14\n",
       "12      II   8.0   8.14\n",
       "13      II  13.0   8.74\n",
       "14      II   9.0   8.77"
      ]
     },
     "execution_count": 2,
     "metadata": {},
     "output_type": "execute_result"
    }
   ],
   "source": [
    "# load anscombe data\n",
    "anscombe = pd.read_csv('./data/anscombe.csv')\n",
    "anscombe.head(15)"
   ]
  },
  {
   "cell_type": "markdown",
   "metadata": {
    "slideshow": {
     "slide_type": "slide"
    }
   },
   "source": [
    "The anscombe data includes four datasets that are useful for instruction. Right now, we'll focus on dataset I."
   ]
  },
  {
   "cell_type": "code",
   "execution_count": 3,
   "metadata": {
    "slideshow": {
     "slide_type": "fragment"
    }
   },
   "outputs": [
    {
     "data": {
      "text/plain": [
       "<seaborn.axisgrid.FacetGrid at 0x7fd188108fd0>"
      ]
     },
     "execution_count": 3,
     "metadata": {},
     "output_type": "execute_result"
    },
    {
     "data": {
      "image/png": "[encoded data removed]",
      "text/plain": [
       "<Figure size 1440x360 with 4 Axes>"
      ]
     },
     "metadata": {
      "image/png": {
       "height": 333,
       "width": 1414
      }
     },
     "output_type": "display_data"
    }
   ],
   "source": [
    "# plot with matplotlib\n",
    "sns.lmplot(x=\"x\", y=\"y\", col=\"dataset\", fit_reg=False,\n",
    "           ci=None, data=anscombe, height=5)"
   ]
  },
  {
   "cell_type": "code",
   "execution_count": 4,
   "metadata": {
    "slideshow": {
     "slide_type": "slide"
    }
   },
   "outputs": [
    {
     "data": {
      "image/png": "[encoded data removed]",
      "text/plain": [
       "<Figure size 360x360 with 1 Axes>"
      ]
     },
     "metadata": {
      "image/png": {
       "height": 333,
       "width": 334
      }
     },
     "output_type": "display_data"
    }
   ],
   "source": [
    "sns.lmplot(\n",
    "    x=\"x\", y=\"y\", ci=None, fit_reg=False, col=\"dataset\", data=anscombe.query(\"dataset=='I'\"), height=5);"
   ]
  },
  {
   "cell_type": "markdown",
   "metadata": {
    "slideshow": {
     "slide_type": "fragment"
    }
   },
   "source": [
    "We note a pattern - a correlation - between `x` and `y` that can be used to build a linear model. As x increases, y tends to increase by a fixed amnount. In its simplest sense, a linear model is a straight line relationship between a:\n",
    " - feature and target\n",
    " - independent variable and dependent variable\n",
    " - predictor and response"
   ]
  },
  {
   "cell_type": "markdown",
   "metadata": {
    "slideshow": {
     "slide_type": "fragment"
    }
   },
   "source": [
    "All these terms are interchangable and come from different sub-domains of science, but data science tends to use _feature/target_ naming."
   ]
  },
  {
   "cell_type": "markdown",
   "metadata": {
    "slideshow": {
     "slide_type": "slide"
    }
   },
   "source": [
    "Using seaborn, we can quickly plot our data along with a regression model."
   ]
  },
  {
   "cell_type": "code",
   "execution_count": 5,
   "metadata": {
    "slideshow": {
     "slide_type": "fragment"
    }
   },
   "outputs": [
    {
     "data": {
      "image/png": "[encoded data removed]",
      "text/plain": [
       "<Figure size 360x360 with 1 Axes>"
      ]
     },
     "metadata": {
      "image/png": {
       "height": 333,
       "width": 334
      }
     },
     "output_type": "display_data"
    }
   ],
   "source": [
    "# plot with visualized linear model\n",
    "sns.lmplot(x=\"x\", y=\"y\", ci=None, col=\"dataset\", data=anscombe.query(\"dataset=='I'\"));"
   ]
  },
  {
   "cell_type": "markdown",
   "metadata": {
    "slideshow": {
     "slide_type": "fragment"
    }
   },
   "source": [
    "We see the line crosses (6,6) and (10,8), giving us a slope of 2/4: there is a change in `y` of .5 for every change of 1 in `x`. We could write the equation for this line as $y = .5x + 3$. Is this line a good fit for our data?"
   ]
  },
  {
   "cell_type": "markdown",
   "metadata": {
    "slideshow": {
     "slide_type": "slide"
    }
   },
   "source": [
    "Okay, that's what our finished product looks like. But how does it work? How does something find the best line for a given dataset?\n",
    "\n",
    "First some math terms we'll use: \n",
    "- $x$: input features of data\n",
    "- $y$: target value of data\n",
    "- $\\hat{y}$: predicted output from the model"
   ]
  },
  {
   "cell_type": "markdown",
   "metadata": {
    "slideshow": {
     "slide_type": "slide"
    }
   },
   "source": [
    "![](https://upload.wikimedia.org/wikipedia/commons/e/ed/Residuals_for_Linear_Regression_Fit.png)\n",
    "\n",
    "We'll start by quantifying how well a line fits a dataset. On the figure, the dots are the points in our dataset and the red line is what we want to evaluate. \n",
    "\n",
    "The distance from each point to the line is called the error. These errors are also called residuals: they are the difference between observed $y$ and predicted $\\widehat{y}$."
   ]
  },
  {
   "cell_type": "markdown",
   "metadata": {
    "slideshow": {
     "slide_type": "slide"
    }
   },
   "source": [
    "![](https://upload.wikimedia.org/wikipedia/commons/e/ed/Residuals_for_Linear_Regression_Fit.png)\n",
    "\n",
    "Ordinary Least Squares is an approach to fitting a model/line that seeks to minimize the sum of squared errors. \n",
    "\n",
    "That means OLS is taking each error, squaring it, and then trying to minimize that length. One consenquence is that the bottom and top points in the figure contribute greatly to our model's error and have strong influence. Outliers are especially dangerous!"
   ]
  },
  {
   "cell_type": "markdown",
   "metadata": {
    "slideshow": {
     "slide_type": "slide"
    }
   },
   "source": [
    "We can define this mathematically too.\n",
    "\n",
    "OLS Cost Function:\n",
    "\n",
    "$$\\frac{1}{2m} \\sum _{i=1}^m \\left(y_i - \\hat{y}_i\\right)^2$$"
   ]
  },
  {
   "cell_type": "markdown",
   "metadata": {
    "slideshow": {
     "slide_type": "fragment"
    }
   },
   "source": [
    "> Note: one key reason to use squared distances is that it creates a convex optimization problem, which has only one solution and is very fast to solve!"
   ]
  },
  {
   "cell_type": "markdown",
   "metadata": {
    "slideshow": {
     "slide_type": "slide"
    }
   },
   "source": [
    "# Modeling with sklearn"
   ]
  },
  {
   "cell_type": "markdown",
   "metadata": {
    "slideshow": {
     "slide_type": "slide"
    }
   },
   "source": [
    "Let's start by training a model and then we'll talk about what it does."
   ]
  },
  {
   "cell_type": "code",
   "execution_count": 6,
   "metadata": {
    "slideshow": {
     "slide_type": "fragment"
    }
   },
   "outputs": [
    {
     "data": {
      "text/plain": [
       "LinearRegression()"
      ]
     },
     "execution_count": 6,
     "metadata": {},
     "output_type": "execute_result"
    }
   ],
   "source": [
    "# import model and fit\n",
    "from sklearn.metrics import mean_squared_error, r2_score\n",
    "from sklearn.linear_model import LinearRegression  \n",
    "\n",
    "# grab the x column and y column\n",
    "\n",
    "X1 = anscombe.query(\"dataset=='I'\").loc[:,'x'].values.reshape(-1,1)\n",
    "y1 = anscombe.query(\"dataset=='I'\").loc[:,'y']\n",
    "\n",
    "linreg_model = LinearRegression()\n",
    "linreg_model.fit(X1, y1)"
   ]
  },
  {
   "cell_type": "markdown",
   "metadata": {
    "slideshow": {
     "slide_type": "fragment"
    }
   },
   "source": [
    "There! That's all there is to training a model in sci-kit learn."
   ]
  },
  {
   "cell_type": "markdown",
   "metadata": {
    "slideshow": {
     "slide_type": "slide"
    }
   },
   "source": [
    "Now we can use the stored model object (`linreg_model`) to find coefficients."
   ]
  },
  {
   "cell_type": "code",
   "execution_count": 7,
   "metadata": {
    "slideshow": {
     "slide_type": "fragment"
    }
   },
   "outputs": [
    {
     "data": {
      "text/plain": [
       "array([0.50009091])"
      ]
     },
     "execution_count": 7,
     "metadata": {},
     "output_type": "execute_result"
    }
   ],
   "source": [
    "# show coefficients\n",
    "linreg_model.coef_\n",
    "\n",
    "# this should match our 2/4 spot-check on the slope!"
   ]
  },
  {
   "cell_type": "markdown",
   "metadata": {
    "slideshow": {
     "slide_type": "slide"
    }
   },
   "source": [
    "And the intercept."
   ]
  },
  {
   "cell_type": "code",
   "execution_count": 8,
   "metadata": {
    "slideshow": {
     "slide_type": "fragment"
    }
   },
   "outputs": [
    {
     "data": {
      "text/plain": [
       "3.0000909090909103"
      ]
     },
     "execution_count": 8,
     "metadata": {},
     "output_type": "execute_result"
    }
   ],
   "source": [
    "# get y-intercept\n",
    "linreg_model.intercept_"
   ]
  },
  {
   "cell_type": "markdown",
   "metadata": {
    "slideshow": {
     "slide_type": "slide"
    }
   },
   "source": [
    "And we can make predictions on new data. Let's try $x=0$"
   ]
  },
  {
   "cell_type": "code",
   "execution_count": 9,
   "metadata": {
    "slideshow": {
     "slide_type": "fragment"
    }
   },
   "outputs": [
    {
     "data": {
      "text/plain": [
       "array([3.00009091])"
      ]
     },
     "execution_count": 9,
     "metadata": {},
     "output_type": "execute_result"
    }
   ],
   "source": [
    "# use our fitted model to predict y when x=0\n",
    "\n",
    "linreg_model.predict([[0]])\n",
    "\n",
    "# yes, we get our intercept!"
   ]
  },
  {
   "cell_type": "markdown",
   "metadata": {
    "slideshow": {
     "slide_type": "slide"
    }
   },
   "source": [
    "In Linear Regression, the model learns a set of parameters, $\\beta$. $\\beta$ is a **vector** of parameters, which includes $\\beta_0$, $\\beta_1$, $\\beta_2$, etc."
   ]
  },
  {
   "cell_type": "markdown",
   "metadata": {
    "slideshow": {
     "slide_type": "fragment"
    }
   },
   "source": [
    "These are combined using the formula\n",
    "$$\\hat{y} = \\beta^Tx\\ .$$ \n",
    "We can expand the matrix multiplication to get\n",
    "$$\\hat{y} = \\beta_0 + \\beta_1x_1 + \\beta_2x_2 + \\beta_3x_3 + \\beta_4x_4 ...\\ .$$"
   ]
  },
  {
   "cell_type": "markdown",
   "metadata": {
    "slideshow": {
     "slide_type": "fragment"
    }
   },
   "source": [
    "Here, $x_1$, $x_2$, etc. are the features or columns in our data.\n",
    "\n",
    "$\\beta_0$ is our intercept, and the other betas correspond, left to right, to our features. We only have one in this case, but next we'll look at a dataset with more features!\n",
    "\n",
    "$\\epsilon$ stands for the error. Our model starts by assuming that it can't be perfectly right and that each point of data might have some error. This error is assumed to be generated from a Gaussian (aka Normal) distribution independently for each point."
   ]
  },
  {
   "cell_type": "markdown",
   "metadata": {
    "slideshow": {
     "slide_type": "slide"
    }
   },
   "source": [
    "# Modeling Housing Data with Statsmodels"
   ]
  },
  {
   "cell_type": "markdown",
   "metadata": {
    "slideshow": {
     "slide_type": "fragment"
    }
   },
   "source": [
    "You've just seen how to use `sklearn` to fit a linear regression model. Now let's look at a different tool, `statsmodels`. You'll see more on this later but for now, both methods are equally good. \n",
    "- `sklearn` is designed more for machine learning.\n",
    "- `statsmodels` is designed more for statisticians. "
   ]
  },
  {
   "cell_type": "code",
   "execution_count": 10,
   "metadata": {
    "slideshow": {
     "slide_type": "slide"
    }
   },
   "outputs": [],
   "source": [
    "import statsmodels.api as sm\n",
    "\n",
    "# housing price index by date\n",
    "housing_price_index = pd.read_csv('data/monthly-hpi.csv')\n",
    "\n",
    "# inflation, S&P500 and interest rates by date\n",
    "shiller = pd.read_csv('data/shiller.csv')\n",
    "\n",
    "# GDP by date\n",
    "gross_domestic_product = pd.read_csv('data/gdp.csv')"
   ]
  },
  {
   "cell_type": "markdown",
   "metadata": {
    "slideshow": {
     "slide_type": "slide"
    }
   },
   "source": [
    "Our data comes in different time blocks, so we can `pandas` merge on date to match up our data."
   ]
  },
  {
   "cell_type": "code",
   "execution_count": 11,
   "metadata": {
    "slideshow": {
     "slide_type": "fragment"
    }
   },
   "outputs": [],
   "source": [
    "# merge to single dataframe\n",
    "housing_df = shiller.merge(gross_domestic_product, on='date').merge(housing_price_index, on='date')"
   ]
  },
  {
   "cell_type": "code",
   "execution_count": 12,
   "metadata": {
    "slideshow": {
     "slide_type": "fragment"
    }
   },
   "outputs": [
    {
     "data": {
      "text/html": [
       "<div>\n",
       "<style scoped>\n",
       "    .dataframe tbody tr th:only-of-type {\n",
       "        vertical-align: middle;\n",
       "    }\n",
       "\n",
       "    .dataframe tbody tr th {\n",
       "        vertical-align: top;\n",
       "    }\n",
       "\n",
       "    .dataframe thead th {\n",
       "        text-align: right;\n",
       "    }\n",
       "</style>\n",
       "<table border=\"1\" class=\"dataframe\">\n",
       "  <thead>\n",
       "    <tr style=\"text-align: right;\">\n",
       "      <th></th>\n",
       "      <th>date</th>\n",
       "      <th>sp500</th>\n",
       "      <th>consumer_price_index</th>\n",
       "      <th>long_interest_rate</th>\n",
       "      <th>total_expenditures</th>\n",
       "      <th>labor_force_pr</th>\n",
       "      <th>producer_price_index</th>\n",
       "      <th>gross_domestic_product</th>\n",
       "      <th>housing_price_index</th>\n",
       "    </tr>\n",
       "  </thead>\n",
       "  <tbody>\n",
       "    <tr>\n",
       "      <th>0</th>\n",
       "      <td>2011-01-01</td>\n",
       "      <td>1282.62</td>\n",
       "      <td>220.22</td>\n",
       "      <td>3.39</td>\n",
       "      <td>5766.7</td>\n",
       "      <td>64.2</td>\n",
       "      <td>192.7</td>\n",
       "      <td>14881.3</td>\n",
       "      <td>181.35</td>\n",
       "    </tr>\n",
       "    <tr>\n",
       "      <th>1</th>\n",
       "      <td>2011-04-01</td>\n",
       "      <td>1331.51</td>\n",
       "      <td>224.91</td>\n",
       "      <td>3.46</td>\n",
       "      <td>5870.8</td>\n",
       "      <td>64.2</td>\n",
       "      <td>203.1</td>\n",
       "      <td>14989.6</td>\n",
       "      <td>180.80</td>\n",
       "    </tr>\n",
       "    <tr>\n",
       "      <th>2</th>\n",
       "      <td>2011-07-01</td>\n",
       "      <td>1325.19</td>\n",
       "      <td>225.92</td>\n",
       "      <td>3.00</td>\n",
       "      <td>5802.6</td>\n",
       "      <td>64.0</td>\n",
       "      <td>204.6</td>\n",
       "      <td>15021.1</td>\n",
       "      <td>184.25</td>\n",
       "    </tr>\n",
       "    <tr>\n",
       "      <th>3</th>\n",
       "      <td>2011-10-01</td>\n",
       "      <td>1207.22</td>\n",
       "      <td>226.42</td>\n",
       "      <td>2.15</td>\n",
       "      <td>5812.9</td>\n",
       "      <td>64.1</td>\n",
       "      <td>201.1</td>\n",
       "      <td>15190.3</td>\n",
       "      <td>181.51</td>\n",
       "    </tr>\n",
       "    <tr>\n",
       "      <th>4</th>\n",
       "      <td>2012-01-01</td>\n",
       "      <td>1300.58</td>\n",
       "      <td>226.66</td>\n",
       "      <td>1.97</td>\n",
       "      <td>5765.7</td>\n",
       "      <td>63.7</td>\n",
       "      <td>200.7</td>\n",
       "      <td>15291.0</td>\n",
       "      <td>179.13</td>\n",
       "    </tr>\n",
       "  </tbody>\n",
       "</table>\n",
       "</div>"
      ],
      "text/plain": [
       "         date    sp500  consumer_price_index  long_interest_rate  \\\n",
       "0  2011-01-01  1282.62                220.22                3.39   \n",
       "1  2011-04-01  1331.51                224.91                3.46   \n",
       "2  2011-07-01  1325.19                225.92                3.00   \n",
       "3  2011-10-01  1207.22                226.42                2.15   \n",
       "4  2012-01-01  1300.58                226.66                1.97   \n",
       "\n",
       "   total_expenditures  labor_force_pr  producer_price_index  \\\n",
       "0              5766.7            64.2                 192.7   \n",
       "1              5870.8            64.2                 203.1   \n",
       "2              5802.6            64.0                 204.6   \n",
       "3              5812.9            64.1                 201.1   \n",
       "4              5765.7            63.7                 200.7   \n",
       "\n",
       "   gross_domestic_product  housing_price_index  \n",
       "0                 14881.3               181.35  \n",
       "1                 14989.6               180.80  \n",
       "2                 15021.1               184.25  \n",
       "3                 15190.3               181.51  \n",
       "4                 15291.0               179.13  "
      ]
     },
     "execution_count": 12,
     "metadata": {},
     "output_type": "execute_result"
    }
   ],
   "source": [
    "# scope out our data\n",
    "housing_df.head()"
   ]
  },
  {
   "cell_type": "code",
   "execution_count": 13,
   "metadata": {
    "slideshow": {
     "slide_type": "slide"
    }
   },
   "outputs": [
    {
     "data": {
      "text/html": [
       "<div>\n",
       "<style scoped>\n",
       "    .dataframe tbody tr th:only-of-type {\n",
       "        vertical-align: middle;\n",
       "    }\n",
       "\n",
       "    .dataframe tbody tr th {\n",
       "        vertical-align: top;\n",
       "    }\n",
       "\n",
       "    .dataframe thead th {\n",
       "        text-align: right;\n",
       "    }\n",
       "</style>\n",
       "<table border=\"1\" class=\"dataframe\">\n",
       "  <thead>\n",
       "    <tr style=\"text-align: right;\">\n",
       "      <th></th>\n",
       "      <th>sp500</th>\n",
       "      <th>consumer_price_index</th>\n",
       "      <th>long_interest_rate</th>\n",
       "      <th>total_expenditures</th>\n",
       "      <th>labor_force_pr</th>\n",
       "      <th>producer_price_index</th>\n",
       "      <th>gross_domestic_product</th>\n",
       "      <th>housing_price_index</th>\n",
       "    </tr>\n",
       "  </thead>\n",
       "  <tbody>\n",
       "    <tr>\n",
       "      <th>count</th>\n",
       "      <td>23.000000</td>\n",
       "      <td>23.000000</td>\n",
       "      <td>23.00000</td>\n",
       "      <td>23.000000</td>\n",
       "      <td>23.000000</td>\n",
       "      <td>23.000000</td>\n",
       "      <td>23.000000</td>\n",
       "      <td>23.000000</td>\n",
       "    </tr>\n",
       "    <tr>\n",
       "      <th>mean</th>\n",
       "      <td>1697.955652</td>\n",
       "      <td>232.821739</td>\n",
       "      <td>2.26913</td>\n",
       "      <td>5914.082609</td>\n",
       "      <td>63.265217</td>\n",
       "      <td>198.421739</td>\n",
       "      <td>15795.756522</td>\n",
       "      <td>204.955652</td>\n",
       "    </tr>\n",
       "    <tr>\n",
       "      <th>std</th>\n",
       "      <td>322.596751</td>\n",
       "      <td>5.405947</td>\n",
       "      <td>0.54516</td>\n",
       "      <td>176.572817</td>\n",
       "      <td>0.561337</td>\n",
       "      <td>7.786875</td>\n",
       "      <td>571.226411</td>\n",
       "      <td>19.364036</td>\n",
       "    </tr>\n",
       "    <tr>\n",
       "      <th>min</th>\n",
       "      <td>1207.220000</td>\n",
       "      <td>220.220000</td>\n",
       "      <td>1.50000</td>\n",
       "      <td>5745.400000</td>\n",
       "      <td>62.500000</td>\n",
       "      <td>182.600000</td>\n",
       "      <td>14881.300000</td>\n",
       "      <td>179.130000</td>\n",
       "    </tr>\n",
       "    <tr>\n",
       "      <th>25%</th>\n",
       "      <td>1373.105000</td>\n",
       "      <td>229.595000</td>\n",
       "      <td>1.89500</td>\n",
       "      <td>5773.600000</td>\n",
       "      <td>62.800000</td>\n",
       "      <td>192.350000</td>\n",
       "      <td>15371.600000</td>\n",
       "      <td>187.840000</td>\n",
       "    </tr>\n",
       "    <tr>\n",
       "      <th>50%</th>\n",
       "      <td>1720.030000</td>\n",
       "      <td>233.600000</td>\n",
       "      <td>2.09000</td>\n",
       "      <td>5841.400000</td>\n",
       "      <td>62.900000</td>\n",
       "      <td>202.500000</td>\n",
       "      <td>15747.000000</td>\n",
       "      <td>205.440000</td>\n",
       "    </tr>\n",
       "    <tr>\n",
       "      <th>75%</th>\n",
       "      <td>1998.955000</td>\n",
       "      <td>237.250000</td>\n",
       "      <td>2.60000</td>\n",
       "      <td>5970.850000</td>\n",
       "      <td>63.700000</td>\n",
       "      <td>203.600000</td>\n",
       "      <td>16321.600000</td>\n",
       "      <td>218.645000</td>\n",
       "    </tr>\n",
       "    <tr>\n",
       "      <th>max</th>\n",
       "      <td>2148.900000</td>\n",
       "      <td>240.650000</td>\n",
       "      <td>3.46000</td>\n",
       "      <td>6307.500000</td>\n",
       "      <td>64.200000</td>\n",
       "      <td>208.300000</td>\n",
       "      <td>16727.000000</td>\n",
       "      <td>241.590000</td>\n",
       "    </tr>\n",
       "  </tbody>\n",
       "</table>\n",
       "</div>"
      ],
      "text/plain": [
       "             sp500  consumer_price_index  long_interest_rate  \\\n",
       "count    23.000000             23.000000            23.00000   \n",
       "mean   1697.955652            232.821739             2.26913   \n",
       "std     322.596751              5.405947             0.54516   \n",
       "min    1207.220000            220.220000             1.50000   \n",
       "25%    1373.105000            229.595000             1.89500   \n",
       "50%    1720.030000            233.600000             2.09000   \n",
       "75%    1998.955000            237.250000             2.60000   \n",
       "max    2148.900000            240.650000             3.46000   \n",
       "\n",
       "       total_expenditures  labor_force_pr  producer_price_index  \\\n",
       "count           23.000000       23.000000             23.000000   \n",
       "mean          5914.082609       63.265217            198.421739   \n",
       "std            176.572817        0.561337              7.786875   \n",
       "min           5745.400000       62.500000            182.600000   \n",
       "25%           5773.600000       62.800000            192.350000   \n",
       "50%           5841.400000       62.900000            202.500000   \n",
       "75%           5970.850000       63.700000            203.600000   \n",
       "max           6307.500000       64.200000            208.300000   \n",
       "\n",
       "       gross_domestic_product  housing_price_index  \n",
       "count               23.000000            23.000000  \n",
       "mean             15795.756522           204.955652  \n",
       "std                571.226411            19.364036  \n",
       "min              14881.300000           179.130000  \n",
       "25%              15371.600000           187.840000  \n",
       "50%              15747.000000           205.440000  \n",
       "75%              16321.600000           218.645000  \n",
       "max              16727.000000           241.590000  "
      ]
     },
     "execution_count": 13,
     "metadata": {},
     "output_type": "execute_result"
    }
   ],
   "source": [
    "# describe it\n",
    "housing_df.describe()"
   ]
  },
  {
   "cell_type": "markdown",
   "metadata": {
    "slideshow": {
     "slide_type": "fragment"
    }
   },
   "source": [
    "Per the [FHFA site](https://www.fhfa.gov/DataTools/Downloads/Pages/House-Price-Index.aspx), House Price Index (HPI) is a broad measure of the movement of single-family house prices. The HPI is a weighted, repeat-sales index, meaning that it measures average price changes in repeat sales or refinancings on the same properties. This information is obtained by reviewing repeat mortgage transactions on single-family properties whose mortgages have been purchased or securitized by Fannie Mae or Freddie Mac since January 1975.\n",
    "\n",
    ">The prices are normalized to 1980:Q1 = 100."
   ]
  },
  {
   "cell_type": "code",
   "execution_count": 14,
   "metadata": {
    "slideshow": {
     "slide_type": "slide"
    }
   },
   "outputs": [],
   "source": [
    "# slice data into features and target\n",
    "X = housing_df.drop(columns=[\"housing_price_index\", \"date\"]).astype(float)\n",
    "y = housing_df.loc[:,\"housing_price_index\"].astype(float)"
   ]
  },
  {
   "cell_type": "code",
   "execution_count": 16,
   "metadata": {
    "slideshow": {
     "slide_type": "slide"
    }
   },
   "outputs": [
    {
     "data": {
      "text/html": [
       "<table class=\"simpletable\">\n",
       "<caption>OLS Regression Results</caption>\n",
       "<tr>\n",
       "  <th>Dep. Variable:</th>    <td>housing_price_index</td> <th>  R-squared (uncentered):</th>      <td>   1.000</td> \n",
       "</tr>\n",
       "<tr>\n",
       "  <th>Model:</th>                    <td>OLS</td>         <th>  Adj. R-squared (uncentered):</th> <td>   1.000</td> \n",
       "</tr>\n",
       "<tr>\n",
       "  <th>Method:</th>              <td>Least Squares</td>    <th>  F-statistic:       </th>          <td>1.863e+04</td>\n",
       "</tr>\n",
       "<tr>\n",
       "  <th>Date:</th>              <td>Wed, 08 Jul 2020</td>   <th>  Prob (F-statistic):</th>          <td>4.54e-30</td> \n",
       "</tr>\n",
       "<tr>\n",
       "  <th>Time:</th>                  <td>13:00:06</td>       <th>  Log-Likelihood:    </th>          <td> -51.586</td> \n",
       "</tr>\n",
       "<tr>\n",
       "  <th>No. Observations:</th>       <td>    23</td>        <th>  AIC:               </th>          <td>   117.2</td> \n",
       "</tr>\n",
       "<tr>\n",
       "  <th>Df Residuals:</th>           <td>    16</td>        <th>  BIC:               </th>          <td>   125.1</td> \n",
       "</tr>\n",
       "<tr>\n",
       "  <th>Df Model:</th>               <td>     7</td>        <th>                     </th>              <td> </td>    \n",
       "</tr>\n",
       "<tr>\n",
       "  <th>Covariance Type:</th>       <td>nonrobust</td>      <th>                     </th>              <td> </td>    \n",
       "</tr>\n",
       "</table>\n",
       "<table class=\"simpletable\">\n",
       "<tr>\n",
       "             <td></td>               <th>coef</th>     <th>std err</th>      <th>t</th>      <th>P>|t|</th>  <th>[0.025</th>    <th>0.975]</th>  \n",
       "</tr>\n",
       "<tr>\n",
       "  <th>sp500</th>                  <td>    0.0266</td> <td>    0.010</td> <td>    2.717</td> <td> 0.015</td> <td>    0.006</td> <td>    0.047</td>\n",
       "</tr>\n",
       "<tr>\n",
       "  <th>consumer_price_index</th>   <td>    2.4016</td> <td>    0.652</td> <td>    3.682</td> <td> 0.002</td> <td>    1.019</td> <td>    3.784</td>\n",
       "</tr>\n",
       "<tr>\n",
       "  <th>long_interest_rate</th>     <td>    1.1669</td> <td>    1.734</td> <td>    0.673</td> <td> 0.511</td> <td>   -2.509</td> <td>    4.843</td>\n",
       "</tr>\n",
       "<tr>\n",
       "  <th>total_expenditures</th>     <td>    0.0145</td> <td>    0.010</td> <td>    1.441</td> <td> 0.169</td> <td>   -0.007</td> <td>    0.036</td>\n",
       "</tr>\n",
       "<tr>\n",
       "  <th>labor_force_pr</th>         <td>   -1.5934</td> <td>    1.227</td> <td>   -1.299</td> <td> 0.212</td> <td>   -4.194</td> <td>    1.007</td>\n",
       "</tr>\n",
       "<tr>\n",
       "  <th>producer_price_index</th>   <td>   -0.8165</td> <td>    0.246</td> <td>   -3.318</td> <td> 0.004</td> <td>   -1.338</td> <td>   -0.295</td>\n",
       "</tr>\n",
       "<tr>\n",
       "  <th>gross_domestic_product</th> <td>   -0.0142</td> <td>    0.009</td> <td>   -1.607</td> <td> 0.128</td> <td>   -0.033</td> <td>    0.005</td>\n",
       "</tr>\n",
       "</table>\n",
       "<table class=\"simpletable\">\n",
       "<tr>\n",
       "  <th>Omnibus:</th>       <td> 1.166</td> <th>  Durbin-Watson:     </th> <td>   1.946</td>\n",
       "</tr>\n",
       "<tr>\n",
       "  <th>Prob(Omnibus):</th> <td> 0.558</td> <th>  Jarque-Bera (JB):  </th> <td>   1.032</td>\n",
       "</tr>\n",
       "<tr>\n",
       "  <th>Skew:</th>          <td> 0.336</td> <th>  Prob(JB):          </th> <td>   0.597</td>\n",
       "</tr>\n",
       "<tr>\n",
       "  <th>Kurtosis:</th>      <td> 2.210</td> <th>  Cond. No.          </th> <td>5.49e+04</td>\n",
       "</tr>\n",
       "</table><br/><br/>Warnings:<br/>[1] Standard Errors assume that the covariance matrix of the errors is correctly specified.<br/>[2] The condition number is large, 5.49e+04. This might indicate that there are<br/>strong multicollinearity or other numerical problems."
      ],
      "text/plain": [
       "<class 'statsmodels.iolib.summary.Summary'>\n",
       "\"\"\"\n",
       "                                 OLS Regression Results                                 \n",
       "========================================================================================\n",
       "Dep. Variable:     housing_price_index   R-squared (uncentered):                   1.000\n",
       "Model:                             OLS   Adj. R-squared (uncentered):              1.000\n",
       "Method:                  Least Squares   F-statistic:                          1.863e+04\n",
       "Date:                 Wed, 08 Jul 2020   Prob (F-statistic):                    4.54e-30\n",
       "Time:                         13:00:06   Log-Likelihood:                         -51.586\n",
       "No. Observations:                   23   AIC:                                      117.2\n",
       "Df Residuals:                       16   BIC:                                      125.1\n",
       "Df Model:                            7                                                  \n",
       "Covariance Type:             nonrobust                                                  \n",
       "==========================================================================================\n",
       "                             coef    std err          t      P>|t|      [0.025      0.975]\n",
       "------------------------------------------------------------------------------------------\n",
       "sp500                      0.0266      0.010      2.717      0.015       0.006       0.047\n",
       "consumer_price_index       2.4016      0.652      3.682      0.002       1.019       3.784\n",
       "long_interest_rate         1.1669      1.734      0.673      0.511      -2.509       4.843\n",
       "total_expenditures         0.0145      0.010      1.441      0.169      -0.007       0.036\n",
       "labor_force_pr            -1.5934      1.227     -1.299      0.212      -4.194       1.007\n",
       "producer_price_index      -0.8165      0.246     -3.318      0.004      -1.338      -0.295\n",
       "gross_domestic_product    -0.0142      0.009     -1.607      0.128      -0.033       0.005\n",
       "==============================================================================\n",
       "Omnibus:                        1.166   Durbin-Watson:                   1.946\n",
       "Prob(Omnibus):                  0.558   Jarque-Bera (JB):                1.032\n",
       "Skew:                           0.336   Prob(JB):                        0.597\n",
       "Kurtosis:                       2.210   Cond. No.                     5.49e+04\n",
       "==============================================================================\n",
       "\n",
       "Warnings:\n",
       "[1] Standard Errors assume that the covariance matrix of the errors is correctly specified.\n",
       "[2] The condition number is large, 5.49e+04. This might indicate that there are\n",
       "strong multicollinearity or other numerical problems.\n",
       "\"\"\""
      ]
     },
     "execution_count": 16,
     "metadata": {},
     "output_type": "execute_result"
    }
   ],
   "source": [
    "# fit model with target as housing price index\n",
    "housing_model = sm.OLS(y, X, data=housing_df)\n",
    "\n",
    "results = housing_model.fit()\n",
    "\n",
    "# summarize our model\n",
    "results.summary()"
   ]
  },
  {
   "cell_type": "markdown",
   "metadata": {
    "slideshow": {
     "slide_type": "slide"
    }
   },
   "source": [
    "![](img/results.png)\n",
    "\n",
    "\n",
    "There's a lot going on here! We'll break the summary table down in a future lesson.\n",
    "\n",
    "For now, let's find the coefficients in the second table:\n",
    "\n",
    "- `sp500` has a coefficient of 0.0266\n",
    "- This means when the S&P 500 goes up by one dollar, the HPI goes up by 0.0266"
   ]
  },
  {
   "cell_type": "markdown",
   "metadata": {
    "slideshow": {
     "slide_type": "fragment"
    }
   },
   "source": [
    "- Does this mean the stock market **causes** an increase in housing prices??"
   ]
  },
  {
   "cell_type": "markdown",
   "metadata": {
    "slideshow": {
     "slide_type": "fragment"
    }
   },
   "source": [
    "- NOT necessarily! There could be something we aren't measuring affecting both S&P and HPI, causality could be going the other direction, or it could be a much more complicated system."
   ]
  },
  {
   "cell_type": "markdown",
   "metadata": {
    "slideshow": {
     "slide_type": "slide"
    }
   },
   "source": [
    "![](img/results.png)\n",
    "\n",
    "Are there any coefficients that surprise you?"
   ]
  },
  {
   "cell_type": "markdown",
   "metadata": {
    "slideshow": {
     "slide_type": "fragment"
    }
   },
   "source": [
    "Possibilities:\n",
    "- Interest rates: Higher interest rates should make it more difficult to purchase a house, but interest rates are positively related to HPI.\n",
    "- Labor force participation, GDP, Price index: all of these would seem to increase HPI but are negatively related."
   ]
  },
  {
   "cell_type": "markdown",
   "metadata": {
    "slideshow": {
     "slide_type": "slide"
    }
   },
   "source": [
    "### Are Models Everything We Need?"
   ]
  },
  {
   "cell_type": "code",
   "execution_count": 17,
   "metadata": {
    "slideshow": {
     "slide_type": "slide"
    }
   },
   "outputs": [
    {
     "data": {
      "text/html": [
       "<div>\n",
       "<style scoped>\n",
       "    .dataframe tbody tr th:only-of-type {\n",
       "        vertical-align: middle;\n",
       "    }\n",
       "\n",
       "    .dataframe tbody tr th {\n",
       "        vertical-align: top;\n",
       "    }\n",
       "\n",
       "    .dataframe thead th {\n",
       "        text-align: right;\n",
       "    }\n",
       "</style>\n",
       "<table border=\"1\" class=\"dataframe\">\n",
       "  <thead>\n",
       "    <tr style=\"text-align: right;\">\n",
       "      <th></th>\n",
       "      <th>x</th>\n",
       "      <th>y</th>\n",
       "    </tr>\n",
       "  </thead>\n",
       "  <tbody>\n",
       "    <tr>\n",
       "      <th>count</th>\n",
       "      <td>11.000000</td>\n",
       "      <td>11.000000</td>\n",
       "    </tr>\n",
       "    <tr>\n",
       "      <th>mean</th>\n",
       "      <td>9.000000</td>\n",
       "      <td>7.500909</td>\n",
       "    </tr>\n",
       "    <tr>\n",
       "      <th>std</th>\n",
       "      <td>3.316625</td>\n",
       "      <td>2.031568</td>\n",
       "    </tr>\n",
       "    <tr>\n",
       "      <th>min</th>\n",
       "      <td>4.000000</td>\n",
       "      <td>4.260000</td>\n",
       "    </tr>\n",
       "    <tr>\n",
       "      <th>25%</th>\n",
       "      <td>6.500000</td>\n",
       "      <td>6.315000</td>\n",
       "    </tr>\n",
       "    <tr>\n",
       "      <th>50%</th>\n",
       "      <td>9.000000</td>\n",
       "      <td>7.580000</td>\n",
       "    </tr>\n",
       "    <tr>\n",
       "      <th>75%</th>\n",
       "      <td>11.500000</td>\n",
       "      <td>8.570000</td>\n",
       "    </tr>\n",
       "    <tr>\n",
       "      <th>max</th>\n",
       "      <td>14.000000</td>\n",
       "      <td>10.840000</td>\n",
       "    </tr>\n",
       "  </tbody>\n",
       "</table>\n",
       "</div>"
      ],
      "text/plain": [
       "               x          y\n",
       "count  11.000000  11.000000\n",
       "mean    9.000000   7.500909\n",
       "std     3.316625   2.031568\n",
       "min     4.000000   4.260000\n",
       "25%     6.500000   6.315000\n",
       "50%     9.000000   7.580000\n",
       "75%    11.500000   8.570000\n",
       "max    14.000000  10.840000"
      ]
     },
     "execution_count": 17,
     "metadata": {},
     "output_type": "execute_result"
    }
   ],
   "source": [
    "# describe first set\n",
    "anscombe.query(\"dataset=='I'\").describe()"
   ]
  },
  {
   "cell_type": "code",
   "execution_count": null,
   "metadata": {
    "slideshow": {
     "slide_type": "subslide"
    }
   },
   "outputs": [],
   "source": [
    "# STUDENTS: describe second, third, and fourth sets\n",
    "\n",
    "## What do you notice?"
   ]
  },
  {
   "cell_type": "code",
   "execution_count": 21,
   "metadata": {
    "slideshow": {
     "slide_type": "slide"
    }
   },
   "outputs": [
    {
     "data": {
      "text/html": [
       "<div>\n",
       "<style scoped>\n",
       "    .dataframe tbody tr th:only-of-type {\n",
       "        vertical-align: middle;\n",
       "    }\n",
       "\n",
       "    .dataframe tbody tr th {\n",
       "        vertical-align: top;\n",
       "    }\n",
       "\n",
       "    .dataframe thead th {\n",
       "        text-align: right;\n",
       "    }\n",
       "</style>\n",
       "<table border=\"1\" class=\"dataframe\">\n",
       "  <thead>\n",
       "    <tr style=\"text-align: right;\">\n",
       "      <th></th>\n",
       "      <th>x</th>\n",
       "      <th>y</th>\n",
       "    </tr>\n",
       "  </thead>\n",
       "  <tbody>\n",
       "    <tr>\n",
       "      <th>count</th>\n",
       "      <td>11.000000</td>\n",
       "      <td>11.000000</td>\n",
       "    </tr>\n",
       "    <tr>\n",
       "      <th>mean</th>\n",
       "      <td>9.000000</td>\n",
       "      <td>7.500909</td>\n",
       "    </tr>\n",
       "    <tr>\n",
       "      <th>std</th>\n",
       "      <td>3.316625</td>\n",
       "      <td>2.031657</td>\n",
       "    </tr>\n",
       "    <tr>\n",
       "      <th>min</th>\n",
       "      <td>4.000000</td>\n",
       "      <td>3.100000</td>\n",
       "    </tr>\n",
       "    <tr>\n",
       "      <th>25%</th>\n",
       "      <td>6.500000</td>\n",
       "      <td>6.695000</td>\n",
       "    </tr>\n",
       "    <tr>\n",
       "      <th>50%</th>\n",
       "      <td>9.000000</td>\n",
       "      <td>8.140000</td>\n",
       "    </tr>\n",
       "    <tr>\n",
       "      <th>75%</th>\n",
       "      <td>11.500000</td>\n",
       "      <td>8.950000</td>\n",
       "    </tr>\n",
       "    <tr>\n",
       "      <th>max</th>\n",
       "      <td>14.000000</td>\n",
       "      <td>9.260000</td>\n",
       "    </tr>\n",
       "  </tbody>\n",
       "</table>\n",
       "</div>"
      ],
      "text/plain": [
       "               x          y\n",
       "count  11.000000  11.000000\n",
       "mean    9.000000   7.500909\n",
       "std     3.316625   2.031657\n",
       "min     4.000000   3.100000\n",
       "25%     6.500000   6.695000\n",
       "50%     9.000000   8.140000\n",
       "75%    11.500000   8.950000\n",
       "max    14.000000   9.260000"
      ]
     },
     "execution_count": 21,
     "metadata": {},
     "output_type": "execute_result"
    }
   ],
   "source": [
    "anscombe.query(\"dataset=='II'\").describe()\n",
    "anscombe.query(\"dataset=='III'\").describe()\n",
    "anscombe.query(\"dataset=='IV'\").describe()"
   ]
  },
  {
   "cell_type": "markdown",
   "metadata": {
    "slideshow": {
     "slide_type": "fragment"
    }
   },
   "source": [
    "Incredibly, the mean, variance (deviation squared), and other key metrics are identical! This is the famous Anscombe dataset, created to show that it takes more than a quick summary to understand our data well."
   ]
  },
  {
   "cell_type": "code",
   "execution_count": null,
   "metadata": {
    "slideshow": {
     "slide_type": "slide"
    }
   },
   "outputs": [],
   "source": [
    "# STUDENTS: use statsmodels or sklearn to fit linear models to these datasets and compare\n",
    "\n"
   ]
  },
  {
   "cell_type": "code",
   "execution_count": null,
   "metadata": {
    "slideshow": {
     "slide_type": "slide"
    }
   },
   "outputs": [],
   "source": []
  },
  {
   "cell_type": "markdown",
   "metadata": {
    "slideshow": {
     "slide_type": "slide"
    }
   },
   "source": [
    "<img src=data/anscombe.jpg style=\"float:right; max-width:50%\">\n",
    "\n",
    "Even more incredibly, the models that best fit our data according to OLS is the same for all our datasets!\n",
    "\n",
    "We note in this Anscombe exercise that statistics aren't enough for us to understand our data. Even models don't give us full insight; we must combine these approaches with visualization of our data!"
   ]
  },
  {
   "cell_type": "markdown",
   "metadata": {
    "slideshow": {
     "slide_type": "slide"
    }
   },
   "source": [
    "With the help of seaborn we can quickly plot each dataset along with its linear regression fit to confirm that these wildly different datasets do infact lead to the same predictions."
   ]
  },
  {
   "cell_type": "code",
   "execution_count": null,
   "metadata": {
    "slideshow": {
     "slide_type": "fragment"
    }
   },
   "outputs": [],
   "source": [
    "sns.lmplot(x=\"x\", y=\"y\", col=\"dataset\", col_wrap=2, data=anscombe, ci=None);"
   ]
  },
  {
   "cell_type": "markdown",
   "metadata": {
    "slideshow": {
     "slide_type": "slide"
    }
   },
   "source": [
    "<img border=\"0\" src=\"https://blog.revolutionanalytics.com/downloads/DataSaurus%20Dozen.gif\" title=\"DataSaurus Dozen\" width=\"500\">\n",
    "\n",
    "Another even more extreme example of this: the [Dinosaur Dozen](https://blog.revolutionanalytics.com/2017/05/the-datasaurus-dozen.html). 12 plots including a T-Rex that have the same mean, std, and correlation.\n",
    "\n",
    "What lesson can we learn from the Anscome Dataset and the Dinosaur Dozen?"
   ]
  },
  {
   "cell_type": "markdown",
   "metadata": {
    "slideshow": {
     "slide_type": "fragment"
    }
   },
   "source": [
    "Models are very useful tools but they can never be a substitute for understanding (and at minimum, **plotting**) your data."
   ]
  },
  {
   "cell_type": "markdown",
   "metadata": {
    "slideshow": {
     "slide_type": "slide"
    }
   },
   "source": [
    "## Objectives:\n",
    "Students will be able to:\n",
    "1. Apply Linear Regression to the framework taught in the Machine Learning intro lesson.\n",
    "2. Interpret the coefficients of a linear regression model.\n",
    "3. Fit linear regression models using either scikit-learn or statsmodels.\n",
    "4. Predict out-of-sample using a model.\n",
    "5. Recognize and explain limits of models:\n",
    "  * Models do not determine causation.\n",
    "  * Models cannot substitute for understanding data."
   ]
  }
 ],
 "metadata": {
  "@webio": {
   "lastCommId": "492b3ac0b93d41418d4f81eea7cef115",
   "lastKernelId": "b7cf8024-c30a-47de-bfbc-0b70e6a5b295"
  },
  "kernelspec": {
   "display_name": "Python 3",
   "language": "python",
   "name": "python3"
  },
  "language_info": {
   "codemirror_mode": {
    "name": "ipython",
    "version": 3
   },
   "file_extension": ".py",
   "mimetype": "text/x-python",
   "name": "python",
   "nbconvert_exporter": "python",
   "pygments_lexer": "ipython3",
   "version": "3.8.3"
  },
  "toc": {
   "base_numbering": 1,
   "nav_menu": {},
   "number_sections": true,
   "sideBar": true,
   "skip_h1_title": false,
   "title_cell": "Table of Contents",
   "title_sidebar": "Contents",
   "toc_cell": false,
   "toc_position": {},
   "toc_section_display": true,
   "toc_window_display": false
  },
  "varInspector": {
   "cols": {
    "lenName": 16,
    "lenType": 16,
    "lenVar": 40
   },
   "kernels_config": {
    "python": {
     "delete_cmd_postfix": "",
     "delete_cmd_prefix": "del ",
     "library": "var_list.py",
     "varRefreshCmd": "print(var_dic_list())"
    },
    "r": {
     "delete_cmd_postfix": ") ",
     "delete_cmd_prefix": "rm(",
     "library": "var_list.r",
     "varRefreshCmd": "cat(var_dic_list()) "
    }
   },
   "types_to_exclude": [
    "module",
    "function",
    "builtin_function_or_method",
    "instance",
    "_Feature"
   ],
   "window_display": false
  }
 },
 "nbformat": 4,
 "nbformat_minor": 2
}
