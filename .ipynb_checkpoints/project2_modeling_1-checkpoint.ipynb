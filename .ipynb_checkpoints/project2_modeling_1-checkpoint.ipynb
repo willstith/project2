{
 "cells": [
  {
   "cell_type": "code",
   "execution_count": 1,
   "metadata": {},
   "outputs": [],
   "source": [
    "import pickle\n",
    "import pandas as pd\n",
    "import seaborn as sns\n",
    "import matplotlib.pyplot as plt\n",
    "import numpy as np\n",
    "import scipy.stats as stats\n",
    "from sklearn.preprocessing import StandardScaler\n",
    "\n",
    "#these 3 just to check linear assumptions - not sure if I'll actually use\n",
    "import statsmodels.api as sm\n",
    "import statsmodels.formula.api as smf\n",
    "from sklearn import preprocessing\n",
    "\n",
    "from sklearn.model_selection import train_test_split\n",
    "from sklearn.linear_model import LinearRegression, Lasso, LassoCV, Ridge, RidgeCV\n",
    "from sklearn.metrics import r2_score\n",
    "%matplotlib inline"
   ]
  },
  {
   "cell_type": "code",
   "execution_count": 2,
   "metadata": {},
   "outputs": [],
   "source": [
    "with open('BG_df.pickle','rb') as read_file:\n",
    "    BG_df = pickle.load(read_file)"
   ]
  },
  {
   "cell_type": "code",
   "execution_count": 3,
   "metadata": {},
   "outputs": [
    {
     "data": {
      "text/html": [
       "<div>\n",
       "<style scoped>\n",
       "    .dataframe tbody tr th:only-of-type {\n",
       "        vertical-align: middle;\n",
       "    }\n",
       "\n",
       "    .dataframe tbody tr th {\n",
       "        vertical-align: top;\n",
       "    }\n",
       "\n",
       "    .dataframe thead th {\n",
       "        text-align: right;\n",
       "    }\n",
       "</style>\n",
       "<table border=\"1\" class=\"dataframe\">\n",
       "  <thead>\n",
       "    <tr style=\"text-align: right;\">\n",
       "      <th></th>\n",
       "      <th>complexity</th>\n",
       "      <th>playingtime</th>\n",
       "      <th>user_rating</th>\n",
       "      <th>desc_wc</th>\n",
       "      <th>forums</th>\n",
       "      <th>num_ratings</th>\n",
       "      <th>num_mechanics</th>\n",
       "      <th>kickstarted</th>\n",
       "      <th>CardDrafting</th>\n",
       "      <th>DiceRolling</th>\n",
       "      <th>...</th>\n",
       "      <th>Simulation</th>\n",
       "      <th>TilePlacement</th>\n",
       "      <th>VariablePlayerPowers</th>\n",
       "      <th>AbstractGames</th>\n",
       "      <th>PartyGames</th>\n",
       "      <th>StrategyGames</th>\n",
       "      <th>ThematicGames</th>\n",
       "      <th>Wargames</th>\n",
       "      <th>playsperowner</th>\n",
       "      <th>pageviewsperplay</th>\n",
       "    </tr>\n",
       "    <tr>\n",
       "      <th>name</th>\n",
       "      <th></th>\n",
       "      <th></th>\n",
       "      <th></th>\n",
       "      <th></th>\n",
       "      <th></th>\n",
       "      <th></th>\n",
       "      <th></th>\n",
       "      <th></th>\n",
       "      <th></th>\n",
       "      <th></th>\n",
       "      <th></th>\n",
       "      <th></th>\n",
       "      <th></th>\n",
       "      <th></th>\n",
       "      <th></th>\n",
       "      <th></th>\n",
       "      <th></th>\n",
       "      <th></th>\n",
       "      <th></th>\n",
       "      <th></th>\n",
       "      <th></th>\n",
       "    </tr>\n",
       "  </thead>\n",
       "  <tbody>\n",
       "    <tr>\n",
       "      <th>(Instinct, Instinct)</th>\n",
       "      <td>1.3636</td>\n",
       "      <td>20.0</td>\n",
       "      <td>5.72657</td>\n",
       "      <td>34.0</td>\n",
       "      <td>2.0</td>\n",
       "      <td>134.0</td>\n",
       "      <td>2.0</td>\n",
       "      <td>0.0</td>\n",
       "      <td>0.0</td>\n",
       "      <td>0.0</td>\n",
       "      <td>...</td>\n",
       "      <td>0.0</td>\n",
       "      <td>0.0</td>\n",
       "      <td>0.0</td>\n",
       "      <td>0.0</td>\n",
       "      <td>0.0</td>\n",
       "      <td>0.0</td>\n",
       "      <td>0.0</td>\n",
       "      <td>0.0</td>\n",
       "      <td>0.412463</td>\n",
       "      <td>159.431655</td>\n",
       "    </tr>\n",
       "    <tr>\n",
       "      <th>(Heckmeck Barbecue, Heckmeck Barbecue)</th>\n",
       "      <td>1.4815</td>\n",
       "      <td>25.0</td>\n",
       "      <td>6.24042</td>\n",
       "      <td>156.0</td>\n",
       "      <td>4.0</td>\n",
       "      <td>413.0</td>\n",
       "      <td>2.0</td>\n",
       "      <td>0.0</td>\n",
       "      <td>0.0</td>\n",
       "      <td>1.0</td>\n",
       "      <td>...</td>\n",
       "      <td>0.0</td>\n",
       "      <td>0.0</td>\n",
       "      <td>0.0</td>\n",
       "      <td>0.0</td>\n",
       "      <td>0.0</td>\n",
       "      <td>0.0</td>\n",
       "      <td>0.0</td>\n",
       "      <td>0.0</td>\n",
       "      <td>1.223684</td>\n",
       "      <td>28.829912</td>\n",
       "    </tr>\n",
       "    <tr>\n",
       "      <th>(Circadians: First Light, Circadians: First Light)</th>\n",
       "      <td>3.4861</td>\n",
       "      <td>90.0</td>\n",
       "      <td>7.81810</td>\n",
       "      <td>247.0</td>\n",
       "      <td>112.0</td>\n",
       "      <td>823.0</td>\n",
       "      <td>8.0</td>\n",
       "      <td>1.0</td>\n",
       "      <td>0.0</td>\n",
       "      <td>1.0</td>\n",
       "      <td>...</td>\n",
       "      <td>0.0</td>\n",
       "      <td>0.0</td>\n",
       "      <td>1.0</td>\n",
       "      <td>0.0</td>\n",
       "      <td>0.0</td>\n",
       "      <td>0.0</td>\n",
       "      <td>0.0</td>\n",
       "      <td>0.0</td>\n",
       "      <td>1.263851</td>\n",
       "      <td>45.014757</td>\n",
       "    </tr>\n",
       "    <tr>\n",
       "      <th>(The Ravens of Thri Sahashri, The Ravens of Thri Sahashri)</th>\n",
       "      <td>3.4054</td>\n",
       "      <td>45.0</td>\n",
       "      <td>7.22181</td>\n",
       "      <td>294.0</td>\n",
       "      <td>153.0</td>\n",
       "      <td>11.0</td>\n",
       "      <td>6.0</td>\n",
       "      <td>0.0</td>\n",
       "      <td>0.0</td>\n",
       "      <td>0.0</td>\n",
       "      <td>...</td>\n",
       "      <td>0.0</td>\n",
       "      <td>1.0</td>\n",
       "      <td>0.0</td>\n",
       "      <td>0.0</td>\n",
       "      <td>0.0</td>\n",
       "      <td>0.0</td>\n",
       "      <td>1.0</td>\n",
       "      <td>0.0</td>\n",
       "      <td>1.246640</td>\n",
       "      <td>44.273315</td>\n",
       "    </tr>\n",
       "    <tr>\n",
       "      <th>(The Battle of Monmouth, The Battle of Monmouth)</th>\n",
       "      <td>2.6842</td>\n",
       "      <td>180.0</td>\n",
       "      <td>6.63136</td>\n",
       "      <td>192.0</td>\n",
       "      <td>5.0</td>\n",
       "      <td>118.0</td>\n",
       "      <td>4.0</td>\n",
       "      <td>0.0</td>\n",
       "      <td>0.0</td>\n",
       "      <td>1.0</td>\n",
       "      <td>...</td>\n",
       "      <td>1.0</td>\n",
       "      <td>0.0</td>\n",
       "      <td>0.0</td>\n",
       "      <td>0.0</td>\n",
       "      <td>0.0</td>\n",
       "      <td>0.0</td>\n",
       "      <td>0.0</td>\n",
       "      <td>1.0</td>\n",
       "      <td>0.053265</td>\n",
       "      <td>854.709677</td>\n",
       "    </tr>\n",
       "    <tr>\n",
       "      <th>...</th>\n",
       "      <td>...</td>\n",
       "      <td>...</td>\n",
       "      <td>...</td>\n",
       "      <td>...</td>\n",
       "      <td>...</td>\n",
       "      <td>...</td>\n",
       "      <td>...</td>\n",
       "      <td>...</td>\n",
       "      <td>...</td>\n",
       "      <td>...</td>\n",
       "      <td>...</td>\n",
       "      <td>...</td>\n",
       "      <td>...</td>\n",
       "      <td>...</td>\n",
       "      <td>...</td>\n",
       "      <td>...</td>\n",
       "      <td>...</td>\n",
       "      <td>...</td>\n",
       "      <td>...</td>\n",
       "      <td>...</td>\n",
       "      <td>...</td>\n",
       "    </tr>\n",
       "    <tr>\n",
       "      <th>(Expancity, Expancity)</th>\n",
       "      <td>2.0000</td>\n",
       "      <td>90.0</td>\n",
       "      <td>6.95426</td>\n",
       "      <td>106.0</td>\n",
       "      <td>46.0</td>\n",
       "      <td>564.0</td>\n",
       "      <td>4.0</td>\n",
       "      <td>0.0</td>\n",
       "      <td>0.0</td>\n",
       "      <td>0.0</td>\n",
       "      <td>...</td>\n",
       "      <td>1.0</td>\n",
       "      <td>1.0</td>\n",
       "      <td>0.0</td>\n",
       "      <td>0.0</td>\n",
       "      <td>0.0</td>\n",
       "      <td>0.0</td>\n",
       "      <td>0.0</td>\n",
       "      <td>0.0</td>\n",
       "      <td>1.728549</td>\n",
       "      <td>60.692238</td>\n",
       "    </tr>\n",
       "    <tr>\n",
       "      <th>(TurfMaster, TurfMaster)</th>\n",
       "      <td>1.9681</td>\n",
       "      <td>75.0</td>\n",
       "      <td>7.23507</td>\n",
       "      <td>402.0</td>\n",
       "      <td>132.0</td>\n",
       "      <td>945.0</td>\n",
       "      <td>3.0</td>\n",
       "      <td>0.0</td>\n",
       "      <td>0.0</td>\n",
       "      <td>1.0</td>\n",
       "      <td>...</td>\n",
       "      <td>0.0</td>\n",
       "      <td>0.0</td>\n",
       "      <td>0.0</td>\n",
       "      <td>0.0</td>\n",
       "      <td>0.0</td>\n",
       "      <td>0.0</td>\n",
       "      <td>1.0</td>\n",
       "      <td>0.0</td>\n",
       "      <td>2.948130</td>\n",
       "      <td>54.747954</td>\n",
       "    </tr>\n",
       "    <tr>\n",
       "      <th>(Import / Export, Import / Export)</th>\n",
       "      <td>3.2174</td>\n",
       "      <td>90.0</td>\n",
       "      <td>7.34257</td>\n",
       "      <td>131.0</td>\n",
       "      <td>128.0</td>\n",
       "      <td>645.0</td>\n",
       "      <td>7.0</td>\n",
       "      <td>1.0</td>\n",
       "      <td>0.0</td>\n",
       "      <td>0.0</td>\n",
       "      <td>...</td>\n",
       "      <td>0.0</td>\n",
       "      <td>0.0</td>\n",
       "      <td>1.0</td>\n",
       "      <td>0.0</td>\n",
       "      <td>0.0</td>\n",
       "      <td>0.0</td>\n",
       "      <td>0.0</td>\n",
       "      <td>0.0</td>\n",
       "      <td>2.093320</td>\n",
       "      <td>47.139840</td>\n",
       "    </tr>\n",
       "    <tr>\n",
       "      <th>(The Balkan Wars: Prelude to Disaster, 1912-1913, The Balkan Wars: Prelude to Disaster, 1912-1913)</th>\n",
       "      <td>2.9474</td>\n",
       "      <td>120.0</td>\n",
       "      <td>6.60899</td>\n",
       "      <td>105.0</td>\n",
       "      <td>5.0</td>\n",
       "      <td>89.0</td>\n",
       "      <td>3.0</td>\n",
       "      <td>0.0</td>\n",
       "      <td>0.0</td>\n",
       "      <td>1.0</td>\n",
       "      <td>...</td>\n",
       "      <td>1.0</td>\n",
       "      <td>0.0</td>\n",
       "      <td>0.0</td>\n",
       "      <td>0.0</td>\n",
       "      <td>0.0</td>\n",
       "      <td>0.0</td>\n",
       "      <td>0.0</td>\n",
       "      <td>1.0</td>\n",
       "      <td>0.122016</td>\n",
       "      <td>619.695652</td>\n",
       "    </tr>\n",
       "    <tr>\n",
       "      <th>(Nuns on the Run, Nuns on the Run)</th>\n",
       "      <td>2.0791</td>\n",
       "      <td>45.0</td>\n",
       "      <td>6.51516</td>\n",
       "      <td>228.0</td>\n",
       "      <td>234.0</td>\n",
       "      <td>37.0</td>\n",
       "      <td>8.0</td>\n",
       "      <td>0.0</td>\n",
       "      <td>0.0</td>\n",
       "      <td>1.0</td>\n",
       "      <td>...</td>\n",
       "      <td>0.0</td>\n",
       "      <td>0.0</td>\n",
       "      <td>1.0</td>\n",
       "      <td>0.0</td>\n",
       "      <td>0.0</td>\n",
       "      <td>0.0</td>\n",
       "      <td>0.0</td>\n",
       "      <td>0.0</td>\n",
       "      <td>1.621348</td>\n",
       "      <td>35.373667</td>\n",
       "    </tr>\n",
       "  </tbody>\n",
       "</table>\n",
       "<p>510 rows × 24 columns</p>\n",
       "</div>"
      ],
      "text/plain": [
       "                                                    complexity  playingtime  \\\n",
       "name                                                                          \n",
       "(Instinct, Instinct)                                    1.3636         20.0   \n",
       "(Heckmeck Barbecue, Heckmeck Barbecue)                  1.4815         25.0   \n",
       "(Circadians: First Light, Circadians: First Light)      3.4861         90.0   \n",
       "(The Ravens of Thri Sahashri, The Ravens of Thr...      3.4054         45.0   \n",
       "(The Battle of Monmouth, The Battle of Monmouth)        2.6842        180.0   \n",
       "...                                                        ...          ...   \n",
       "(Expancity, Expancity)                                  2.0000         90.0   \n",
       "(TurfMaster, TurfMaster)                                1.9681         75.0   \n",
       "(Import / Export, Import / Export)                      3.2174         90.0   \n",
       "(The Balkan Wars: Prelude to Disaster, 1912-191...      2.9474        120.0   \n",
       "(Nuns on the Run, Nuns on the Run)                      2.0791         45.0   \n",
       "\n",
       "                                                    user_rating  desc_wc  \\\n",
       "name                                                                       \n",
       "(Instinct, Instinct)                                    5.72657     34.0   \n",
       "(Heckmeck Barbecue, Heckmeck Barbecue)                  6.24042    156.0   \n",
       "(Circadians: First Light, Circadians: First Light)      7.81810    247.0   \n",
       "(The Ravens of Thri Sahashri, The Ravens of Thr...      7.22181    294.0   \n",
       "(The Battle of Monmouth, The Battle of Monmouth)        6.63136    192.0   \n",
       "...                                                         ...      ...   \n",
       "(Expancity, Expancity)                                  6.95426    106.0   \n",
       "(TurfMaster, TurfMaster)                                7.23507    402.0   \n",
       "(Import / Export, Import / Export)                      7.34257    131.0   \n",
       "(The Balkan Wars: Prelude to Disaster, 1912-191...      6.60899    105.0   \n",
       "(Nuns on the Run, Nuns on the Run)                      6.51516    228.0   \n",
       "\n",
       "                                                    forums  num_ratings  \\\n",
       "name                                                                      \n",
       "(Instinct, Instinct)                                   2.0        134.0   \n",
       "(Heckmeck Barbecue, Heckmeck Barbecue)                 4.0        413.0   \n",
       "(Circadians: First Light, Circadians: First Light)   112.0        823.0   \n",
       "(The Ravens of Thri Sahashri, The Ravens of Thr...   153.0         11.0   \n",
       "(The Battle of Monmouth, The Battle of Monmouth)       5.0        118.0   \n",
       "...                                                    ...          ...   \n",
       "(Expancity, Expancity)                                46.0        564.0   \n",
       "(TurfMaster, TurfMaster)                             132.0        945.0   \n",
       "(Import / Export, Import / Export)                   128.0        645.0   \n",
       "(The Balkan Wars: Prelude to Disaster, 1912-191...     5.0         89.0   \n",
       "(Nuns on the Run, Nuns on the Run)                   234.0         37.0   \n",
       "\n",
       "                                                    num_mechanics  \\\n",
       "name                                                                \n",
       "(Instinct, Instinct)                                          2.0   \n",
       "(Heckmeck Barbecue, Heckmeck Barbecue)                        2.0   \n",
       "(Circadians: First Light, Circadians: First Light)            8.0   \n",
       "(The Ravens of Thri Sahashri, The Ravens of Thr...            6.0   \n",
       "(The Battle of Monmouth, The Battle of Monmouth)              4.0   \n",
       "...                                                           ...   \n",
       "(Expancity, Expancity)                                        4.0   \n",
       "(TurfMaster, TurfMaster)                                      3.0   \n",
       "(Import / Export, Import / Export)                            7.0   \n",
       "(The Balkan Wars: Prelude to Disaster, 1912-191...            3.0   \n",
       "(Nuns on the Run, Nuns on the Run)                            8.0   \n",
       "\n",
       "                                                    kickstarted  CardDrafting  \\\n",
       "name                                                                            \n",
       "(Instinct, Instinct)                                        0.0           0.0   \n",
       "(Heckmeck Barbecue, Heckmeck Barbecue)                      0.0           0.0   \n",
       "(Circadians: First Light, Circadians: First Light)          1.0           0.0   \n",
       "(The Ravens of Thri Sahashri, The Ravens of Thr...          0.0           0.0   \n",
       "(The Battle of Monmouth, The Battle of Monmouth)            0.0           0.0   \n",
       "...                                                         ...           ...   \n",
       "(Expancity, Expancity)                                      0.0           0.0   \n",
       "(TurfMaster, TurfMaster)                                    0.0           0.0   \n",
       "(Import / Export, Import / Export)                          1.0           0.0   \n",
       "(The Balkan Wars: Prelude to Disaster, 1912-191...          0.0           0.0   \n",
       "(Nuns on the Run, Nuns on the Run)                          0.0           0.0   \n",
       "\n",
       "                                                    DiceRolling  ...  \\\n",
       "name                                                             ...   \n",
       "(Instinct, Instinct)                                        0.0  ...   \n",
       "(Heckmeck Barbecue, Heckmeck Barbecue)                      1.0  ...   \n",
       "(Circadians: First Light, Circadians: First Light)          1.0  ...   \n",
       "(The Ravens of Thri Sahashri, The Ravens of Thr...          0.0  ...   \n",
       "(The Battle of Monmouth, The Battle of Monmouth)            1.0  ...   \n",
       "...                                                         ...  ...   \n",
       "(Expancity, Expancity)                                      0.0  ...   \n",
       "(TurfMaster, TurfMaster)                                    1.0  ...   \n",
       "(Import / Export, Import / Export)                          0.0  ...   \n",
       "(The Balkan Wars: Prelude to Disaster, 1912-191...          1.0  ...   \n",
       "(Nuns on the Run, Nuns on the Run)                          1.0  ...   \n",
       "\n",
       "                                                    Simulation  TilePlacement  \\\n",
       "name                                                                            \n",
       "(Instinct, Instinct)                                       0.0            0.0   \n",
       "(Heckmeck Barbecue, Heckmeck Barbecue)                     0.0            0.0   \n",
       "(Circadians: First Light, Circadians: First Light)         0.0            0.0   \n",
       "(The Ravens of Thri Sahashri, The Ravens of Thr...         0.0            1.0   \n",
       "(The Battle of Monmouth, The Battle of Monmouth)           1.0            0.0   \n",
       "...                                                        ...            ...   \n",
       "(Expancity, Expancity)                                     1.0            1.0   \n",
       "(TurfMaster, TurfMaster)                                   0.0            0.0   \n",
       "(Import / Export, Import / Export)                         0.0            0.0   \n",
       "(The Balkan Wars: Prelude to Disaster, 1912-191...         1.0            0.0   \n",
       "(Nuns on the Run, Nuns on the Run)                         0.0            0.0   \n",
       "\n",
       "                                                    VariablePlayerPowers  \\\n",
       "name                                                                       \n",
       "(Instinct, Instinct)                                                 0.0   \n",
       "(Heckmeck Barbecue, Heckmeck Barbecue)                               0.0   \n",
       "(Circadians: First Light, Circadians: First Light)                   1.0   \n",
       "(The Ravens of Thri Sahashri, The Ravens of Thr...                   0.0   \n",
       "(The Battle of Monmouth, The Battle of Monmouth)                     0.0   \n",
       "...                                                                  ...   \n",
       "(Expancity, Expancity)                                               0.0   \n",
       "(TurfMaster, TurfMaster)                                             0.0   \n",
       "(Import / Export, Import / Export)                                   1.0   \n",
       "(The Balkan Wars: Prelude to Disaster, 1912-191...                   0.0   \n",
       "(Nuns on the Run, Nuns on the Run)                                   1.0   \n",
       "\n",
       "                                                    AbstractGames  PartyGames  \\\n",
       "name                                                                            \n",
       "(Instinct, Instinct)                                          0.0         0.0   \n",
       "(Heckmeck Barbecue, Heckmeck Barbecue)                        0.0         0.0   \n",
       "(Circadians: First Light, Circadians: First Light)            0.0         0.0   \n",
       "(The Ravens of Thri Sahashri, The Ravens of Thr...            0.0         0.0   \n",
       "(The Battle of Monmouth, The Battle of Monmouth)              0.0         0.0   \n",
       "...                                                           ...         ...   \n",
       "(Expancity, Expancity)                                        0.0         0.0   \n",
       "(TurfMaster, TurfMaster)                                      0.0         0.0   \n",
       "(Import / Export, Import / Export)                            0.0         0.0   \n",
       "(The Balkan Wars: Prelude to Disaster, 1912-191...            0.0         0.0   \n",
       "(Nuns on the Run, Nuns on the Run)                            0.0         0.0   \n",
       "\n",
       "                                                    StrategyGames  \\\n",
       "name                                                                \n",
       "(Instinct, Instinct)                                          0.0   \n",
       "(Heckmeck Barbecue, Heckmeck Barbecue)                        0.0   \n",
       "(Circadians: First Light, Circadians: First Light)            0.0   \n",
       "(The Ravens of Thri Sahashri, The Ravens of Thr...            0.0   \n",
       "(The Battle of Monmouth, The Battle of Monmouth)              0.0   \n",
       "...                                                           ...   \n",
       "(Expancity, Expancity)                                        0.0   \n",
       "(TurfMaster, TurfMaster)                                      0.0   \n",
       "(Import / Export, Import / Export)                            0.0   \n",
       "(The Balkan Wars: Prelude to Disaster, 1912-191...            0.0   \n",
       "(Nuns on the Run, Nuns on the Run)                            0.0   \n",
       "\n",
       "                                                    ThematicGames  Wargames  \\\n",
       "name                                                                          \n",
       "(Instinct, Instinct)                                          0.0       0.0   \n",
       "(Heckmeck Barbecue, Heckmeck Barbecue)                        0.0       0.0   \n",
       "(Circadians: First Light, Circadians: First Light)            0.0       0.0   \n",
       "(The Ravens of Thri Sahashri, The Ravens of Thr...            1.0       0.0   \n",
       "(The Battle of Monmouth, The Battle of Monmouth)              0.0       1.0   \n",
       "...                                                           ...       ...   \n",
       "(Expancity, Expancity)                                        0.0       0.0   \n",
       "(TurfMaster, TurfMaster)                                      1.0       0.0   \n",
       "(Import / Export, Import / Export)                            0.0       0.0   \n",
       "(The Balkan Wars: Prelude to Disaster, 1912-191...            0.0       1.0   \n",
       "(Nuns on the Run, Nuns on the Run)                            0.0       0.0   \n",
       "\n",
       "                                                    playsperowner  \\\n",
       "name                                                                \n",
       "(Instinct, Instinct)                                     0.412463   \n",
       "(Heckmeck Barbecue, Heckmeck Barbecue)                   1.223684   \n",
       "(Circadians: First Light, Circadians: First Light)       1.263851   \n",
       "(The Ravens of Thri Sahashri, The Ravens of Thr...       1.246640   \n",
       "(The Battle of Monmouth, The Battle of Monmouth)         0.053265   \n",
       "...                                                           ...   \n",
       "(Expancity, Expancity)                                   1.728549   \n",
       "(TurfMaster, TurfMaster)                                 2.948130   \n",
       "(Import / Export, Import / Export)                       2.093320   \n",
       "(The Balkan Wars: Prelude to Disaster, 1912-191...       0.122016   \n",
       "(Nuns on the Run, Nuns on the Run)                       1.621348   \n",
       "\n",
       "                                                    pageviewsperplay  \n",
       "name                                                                  \n",
       "(Instinct, Instinct)                                      159.431655  \n",
       "(Heckmeck Barbecue, Heckmeck Barbecue)                     28.829912  \n",
       "(Circadians: First Light, Circadians: First Light)         45.014757  \n",
       "(The Ravens of Thri Sahashri, The Ravens of Thr...         44.273315  \n",
       "(The Battle of Monmouth, The Battle of Monmouth)          854.709677  \n",
       "...                                                              ...  \n",
       "(Expancity, Expancity)                                     60.692238  \n",
       "(TurfMaster, TurfMaster)                                   54.747954  \n",
       "(Import / Export, Import / Export)                         47.139840  \n",
       "(The Balkan Wars: Prelude to Disaster, 1912-191...        619.695652  \n",
       "(Nuns on the Run, Nuns on the Run)                         35.373667  \n",
       "\n",
       "[510 rows x 24 columns]"
      ]
     },
     "execution_count": 3,
     "metadata": {},
     "output_type": "execute_result"
    }
   ],
   "source": [
    "BG_df"
   ]
  },
  {
   "cell_type": "code",
   "execution_count": 4,
   "metadata": {},
   "outputs": [],
   "source": [
    "Xcols = ['playsperowner', 'pageviewsperplay', 'playingtime', 'user_rating', 'desc_wc', 'forums',\n",
    "        'num_ratings', 'num_mechanics', 'kickstarted', 'CardDrafting', 'DiceRolling', 'HandManagement',\n",
    "        'HexagonGrid', 'ModularBoard', 'SetCollection', 'Simulation', 'TilePlacement', 'VariablePlayerPowers', \n",
    "        'AbstractGames', 'PartyGames', 'StrategyGames', 'ThematicGames', 'Wargames']\n",
    "X = BG_df.loc[:, Xcols]\n",
    "\n",
    "y = BG_df['complexity']"
   ]
  },
  {
   "cell_type": "code",
   "execution_count": 5,
   "metadata": {},
   "outputs": [],
   "source": [
    "X_train_val, X_test, y_train_val, y_test = train_test_split(X, y, test_size=0.2)"
   ]
  },
  {
   "cell_type": "code",
   "execution_count": 6,
   "metadata": {
    "scrolled": true
   },
   "outputs": [
    {
     "data": {
      "text/plain": [
       "array([-1.01327826e-01,  1.85115259e-04,  2.87843499e-03,  3.15676488e-01,\n",
       "        4.68224555e-04,  4.38628792e-04,  5.58112392e-05,  3.90662491e-02,\n",
       "        5.66789799e-02,  5.55111512e-17, -8.71890859e-02, -2.25685948e-02,\n",
       "        7.33251524e-03,  7.13132372e-02, -1.10847054e-01, -2.32252904e-02,\n",
       "        1.38444181e-01,  9.17016622e-02, -1.38777878e-17, -2.77555756e-17,\n",
       "        4.90047456e-01,  2.20813016e-01,  1.47876511e-01])"
      ]
     },
     "execution_count": 6,
     "metadata": {},
     "output_type": "execute_result"
    }
   ],
   "source": [
    "#test initial linear model\n",
    "BG_lm = LinearRegression()\n",
    "fit = BG_lm.fit(X_train_val, y_train_val)\n",
    "BG_lm.coef_"
   ]
  },
  {
   "cell_type": "code",
   "execution_count": 7,
   "metadata": {},
   "outputs": [
    {
     "data": {
      "image/png": "[encoded data removed]",
      "text/plain": [
       "<Figure size 720x432 with 1 Axes>"
      ]
     },
     "metadata": {
      "needs_background": "light"
     },
     "output_type": "display_data"
    }
   ],
   "source": [
    "BG_df['predict'] = fit.predict(X)\n",
    "BG_df['resid'] = BG_df.complexity-BG_df.predict\n",
    "plot=BG_df.plot(kind='scatter', x='predict',y='resid',alpha=0.2,figsize=(10,6))\n",
    "#plt.savefig('initial_BG_residuals_linear')"
   ]
  },
  {
   "cell_type": "code",
   "execution_count": 8,
   "metadata": {},
   "outputs": [
    {
     "data": {
      "text/html": [
       "<table class=\"simpletable\">\n",
       "<caption>OLS Regression Results</caption>\n",
       "<tr>\n",
       "  <th>Dep. Variable:</th>       <td>complexity</td>    <th>  R-squared (uncentered):</th>      <td>   0.964</td>\n",
       "</tr>\n",
       "<tr>\n",
       "  <th>Model:</th>                   <td>OLS</td>       <th>  Adj. R-squared (uncentered):</th> <td>   0.962</td>\n",
       "</tr>\n",
       "<tr>\n",
       "  <th>Method:</th>             <td>Least Squares</td>  <th>  F-statistic:       </th>          <td>   646.9</td>\n",
       "</tr>\n",
       "<tr>\n",
       "  <th>Date:</th>             <td>Mon, 20 Jul 2020</td> <th>  Prob (F-statistic):</th>           <td>  0.00</td> \n",
       "</tr>\n",
       "<tr>\n",
       "  <th>Time:</th>                 <td>08:40:41</td>     <th>  Log-Likelihood:    </th>          <td> -327.70</td>\n",
       "</tr>\n",
       "<tr>\n",
       "  <th>No. Observations:</th>      <td>   510</td>      <th>  AIC:               </th>          <td>   695.4</td>\n",
       "</tr>\n",
       "<tr>\n",
       "  <th>Df Residuals:</th>          <td>   490</td>      <th>  BIC:               </th>          <td>   780.1</td>\n",
       "</tr>\n",
       "<tr>\n",
       "  <th>Df Model:</th>              <td>    20</td>      <th>                     </th>              <td> </td>   \n",
       "</tr>\n",
       "<tr>\n",
       "  <th>Covariance Type:</th>      <td>nonrobust</td>    <th>                     </th>              <td> </td>   \n",
       "</tr>\n",
       "</table>\n",
       "<table class=\"simpletable\">\n",
       "<tr>\n",
       "            <td></td>              <th>coef</th>     <th>std err</th>      <th>t</th>      <th>P>|t|</th>  <th>[0.025</th>    <th>0.975]</th>  \n",
       "</tr>\n",
       "<tr>\n",
       "  <th>playsperowner</th>        <td>   -0.0891</td> <td>    0.018</td> <td>   -4.895</td> <td> 0.000</td> <td>   -0.125</td> <td>   -0.053</td>\n",
       "</tr>\n",
       "<tr>\n",
       "  <th>pageviewsperplay</th>     <td>    0.0002</td> <td> 4.95e-05</td> <td>    4.193</td> <td> 0.000</td> <td>    0.000</td> <td>    0.000</td>\n",
       "</tr>\n",
       "<tr>\n",
       "  <th>playingtime</th>          <td>    0.0028</td> <td>    0.000</td> <td>    9.162</td> <td> 0.000</td> <td>    0.002</td> <td>    0.003</td>\n",
       "</tr>\n",
       "<tr>\n",
       "  <th>user_rating</th>          <td>    0.2522</td> <td>    0.011</td> <td>   23.020</td> <td> 0.000</td> <td>    0.231</td> <td>    0.274</td>\n",
       "</tr>\n",
       "<tr>\n",
       "  <th>desc_wc</th>              <td>    0.0004</td> <td>    0.000</td> <td>    1.846</td> <td> 0.065</td> <td>-2.37e-05</td> <td>    0.001</td>\n",
       "</tr>\n",
       "<tr>\n",
       "  <th>forums</th>               <td>    0.0007</td> <td>    0.000</td> <td>    2.615</td> <td> 0.009</td> <td>    0.000</td> <td>    0.001</td>\n",
       "</tr>\n",
       "<tr>\n",
       "  <th>num_ratings</th>          <td> 5.281e-05</td> <td> 8.91e-05</td> <td>    0.593</td> <td> 0.554</td> <td>   -0.000</td> <td>    0.000</td>\n",
       "</tr>\n",
       "<tr>\n",
       "  <th>num_mechanics</th>        <td>    0.0467</td> <td>    0.017</td> <td>    2.774</td> <td> 0.006</td> <td>    0.014</td> <td>    0.080</td>\n",
       "</tr>\n",
       "<tr>\n",
       "  <th>kickstarted</th>          <td>    0.0671</td> <td>    0.070</td> <td>    0.963</td> <td> 0.336</td> <td>   -0.070</td> <td>    0.204</td>\n",
       "</tr>\n",
       "<tr>\n",
       "  <th>CardDrafting</th>         <td>-4.166e-17</td> <td> 4.69e-17</td> <td>   -0.888</td> <td> 0.375</td> <td>-1.34e-16</td> <td> 5.05e-17</td>\n",
       "</tr>\n",
       "<tr>\n",
       "  <th>DiceRolling</th>          <td>   -0.1192</td> <td>    0.053</td> <td>   -2.232</td> <td> 0.026</td> <td>   -0.224</td> <td>   -0.014</td>\n",
       "</tr>\n",
       "<tr>\n",
       "  <th>HandManagement</th>       <td>   -0.0713</td> <td>    0.058</td> <td>   -1.235</td> <td> 0.217</td> <td>   -0.185</td> <td>    0.042</td>\n",
       "</tr>\n",
       "<tr>\n",
       "  <th>HexagonGrid</th>          <td>    0.0370</td> <td>    0.085</td> <td>    0.437</td> <td> 0.662</td> <td>   -0.129</td> <td>    0.203</td>\n",
       "</tr>\n",
       "<tr>\n",
       "  <th>ModularBoard</th>         <td>    0.0476</td> <td>    0.078</td> <td>    0.612</td> <td> 0.541</td> <td>   -0.105</td> <td>    0.200</td>\n",
       "</tr>\n",
       "<tr>\n",
       "  <th>SetCollection</th>        <td>   -0.1331</td> <td>    0.067</td> <td>   -2.001</td> <td> 0.046</td> <td>   -0.264</td> <td>   -0.002</td>\n",
       "</tr>\n",
       "<tr>\n",
       "  <th>Simulation</th>           <td>    0.0081</td> <td>    0.080</td> <td>    0.101</td> <td> 0.920</td> <td>   -0.150</td> <td>    0.166</td>\n",
       "</tr>\n",
       "<tr>\n",
       "  <th>TilePlacement</th>        <td>    0.0953</td> <td>    0.076</td> <td>    1.251</td> <td> 0.211</td> <td>   -0.054</td> <td>    0.245</td>\n",
       "</tr>\n",
       "<tr>\n",
       "  <th>VariablePlayerPowers</th> <td>    0.0631</td> <td>    0.071</td> <td>    0.888</td> <td> 0.375</td> <td>   -0.076</td> <td>    0.203</td>\n",
       "</tr>\n",
       "<tr>\n",
       "  <th>AbstractGames</th>        <td> 2.631e-18</td> <td> 1.35e-17</td> <td>    0.194</td> <td> 0.846</td> <td> -2.4e-17</td> <td> 2.92e-17</td>\n",
       "</tr>\n",
       "<tr>\n",
       "  <th>PartyGames</th>           <td>-1.828e-19</td> <td> 5.23e-20</td> <td>   -3.493</td> <td> 0.001</td> <td>-2.86e-19</td> <td>   -8e-20</td>\n",
       "</tr>\n",
       "<tr>\n",
       "  <th>StrategyGames</th>        <td>    0.4608</td> <td>    0.057</td> <td>    8.083</td> <td> 0.000</td> <td>    0.349</td> <td>    0.573</td>\n",
       "</tr>\n",
       "<tr>\n",
       "  <th>ThematicGames</th>        <td>    0.1873</td> <td>    0.073</td> <td>    2.583</td> <td> 0.010</td> <td>    0.045</td> <td>    0.330</td>\n",
       "</tr>\n",
       "<tr>\n",
       "  <th>Wargames</th>             <td>    0.1880</td> <td>    0.079</td> <td>    2.391</td> <td> 0.017</td> <td>    0.033</td> <td>    0.342</td>\n",
       "</tr>\n",
       "</table>\n",
       "<table class=\"simpletable\">\n",
       "<tr>\n",
       "  <th>Omnibus:</th>       <td>23.155</td> <th>  Durbin-Watson:     </th> <td>   1.903</td>\n",
       "</tr>\n",
       "<tr>\n",
       "  <th>Prob(Omnibus):</th> <td> 0.000</td> <th>  Jarque-Bera (JB):  </th> <td>  25.328</td>\n",
       "</tr>\n",
       "<tr>\n",
       "  <th>Skew:</th>          <td> 0.501</td> <th>  Prob(JB):          </th> <td>3.16e-06</td>\n",
       "</tr>\n",
       "<tr>\n",
       "  <th>Kurtosis:</th>      <td> 3.434</td> <th>  Cond. No.          </th> <td>9.24e+20</td>\n",
       "</tr>\n",
       "</table><br/><br/>Warnings:<br/>[1] Standard Errors assume that the covariance matrix of the errors is correctly specified.<br/>[2] The smallest eigenvalue is 2.67e-34. This might indicate that there are<br/>strong multicollinearity problems or that the design matrix is singular."
      ],
      "text/plain": [
       "<class 'statsmodels.iolib.summary.Summary'>\n",
       "\"\"\"\n",
       "                                 OLS Regression Results                                \n",
       "=======================================================================================\n",
       "Dep. Variable:             complexity   R-squared (uncentered):                   0.964\n",
       "Model:                            OLS   Adj. R-squared (uncentered):              0.962\n",
       "Method:                 Least Squares   F-statistic:                              646.9\n",
       "Date:                Mon, 20 Jul 2020   Prob (F-statistic):                        0.00\n",
       "Time:                        08:40:41   Log-Likelihood:                         -327.70\n",
       "No. Observations:                 510   AIC:                                      695.4\n",
       "Df Residuals:                     490   BIC:                                      780.1\n",
       "Df Model:                          20                                                  \n",
       "Covariance Type:            nonrobust                                                  \n",
       "========================================================================================\n",
       "                           coef    std err          t      P>|t|      [0.025      0.975]\n",
       "----------------------------------------------------------------------------------------\n",
       "playsperowner           -0.0891      0.018     -4.895      0.000      -0.125      -0.053\n",
       "pageviewsperplay         0.0002   4.95e-05      4.193      0.000       0.000       0.000\n",
       "playingtime              0.0028      0.000      9.162      0.000       0.002       0.003\n",
       "user_rating              0.2522      0.011     23.020      0.000       0.231       0.274\n",
       "desc_wc                  0.0004      0.000      1.846      0.065   -2.37e-05       0.001\n",
       "forums                   0.0007      0.000      2.615      0.009       0.000       0.001\n",
       "num_ratings           5.281e-05   8.91e-05      0.593      0.554      -0.000       0.000\n",
       "num_mechanics            0.0467      0.017      2.774      0.006       0.014       0.080\n",
       "kickstarted              0.0671      0.070      0.963      0.336      -0.070       0.204\n",
       "CardDrafting         -4.166e-17   4.69e-17     -0.888      0.375   -1.34e-16    5.05e-17\n",
       "DiceRolling             -0.1192      0.053     -2.232      0.026      -0.224      -0.014\n",
       "HandManagement          -0.0713      0.058     -1.235      0.217      -0.185       0.042\n",
       "HexagonGrid              0.0370      0.085      0.437      0.662      -0.129       0.203\n",
       "ModularBoard             0.0476      0.078      0.612      0.541      -0.105       0.200\n",
       "SetCollection           -0.1331      0.067     -2.001      0.046      -0.264      -0.002\n",
       "Simulation               0.0081      0.080      0.101      0.920      -0.150       0.166\n",
       "TilePlacement            0.0953      0.076      1.251      0.211      -0.054       0.245\n",
       "VariablePlayerPowers     0.0631      0.071      0.888      0.375      -0.076       0.203\n",
       "AbstractGames         2.631e-18   1.35e-17      0.194      0.846    -2.4e-17    2.92e-17\n",
       "PartyGames           -1.828e-19   5.23e-20     -3.493      0.001   -2.86e-19      -8e-20\n",
       "StrategyGames            0.4608      0.057      8.083      0.000       0.349       0.573\n",
       "ThematicGames            0.1873      0.073      2.583      0.010       0.045       0.330\n",
       "Wargames                 0.1880      0.079      2.391      0.017       0.033       0.342\n",
       "==============================================================================\n",
       "Omnibus:                       23.155   Durbin-Watson:                   1.903\n",
       "Prob(Omnibus):                  0.000   Jarque-Bera (JB):               25.328\n",
       "Skew:                           0.501   Prob(JB):                     3.16e-06\n",
       "Kurtosis:                       3.434   Cond. No.                     9.24e+20\n",
       "==============================================================================\n",
       "\n",
       "Warnings:\n",
       "[1] Standard Errors assume that the covariance matrix of the errors is correctly specified.\n",
       "[2] The smallest eigenvalue is 2.67e-34. This might indicate that there are\n",
       "strong multicollinearity problems or that the design matrix is singular.\n",
       "\"\"\""
      ]
     },
     "execution_count": 8,
     "metadata": {},
     "output_type": "execute_result"
    }
   ],
   "source": [
    "BG_ols = sm.OLS(y, X, data=BG_df)\n",
    "results = BG_ols.fit()\n",
    "results.summary()"
   ]
  },
  {
   "cell_type": "code",
   "execution_count": 9,
   "metadata": {
    "scrolled": true
   },
   "outputs": [
    {
     "data": {
      "image/png": "[encoded data removed]",
      "text/plain": [
       "<Figure size 432x288 with 1 Axes>"
      ]
     },
     "metadata": {
      "needs_background": "light"
     },
     "output_type": "display_data"
    }
   ],
   "source": [
    "stats.probplot(BG_df['resid'], dist=\"norm\", plot=plt)\n",
    "plt.title(\"Normal Q-Q plot\")\n",
    "plt.show()\n",
    "#plt.savefig('initialQQplot')"
   ]
  },
  {
   "cell_type": "code",
   "execution_count": 10,
   "metadata": {},
   "outputs": [],
   "source": [
    "#Split 60-20-20 into train, val, test groups\n",
    "X_train_val, X_test, y_train_val, y_test = train_test_split(X, y, test_size=0.2)\n",
    "X_train, X_val, y_train, y_val = train_test_split(X_train_val, y_train_val, test_size=.25)"
   ]
  },
  {
   "cell_type": "code",
   "execution_count": 11,
   "metadata": {
    "scrolled": true
   },
   "outputs": [
    {
     "data": {
      "text/plain": [
       "(array([ 5., 11., 22., 42., 59., 55., 67., 32., 11.,  2.]),\n",
       " array([-2.86498131, -2.3103793 , -1.75577729, -1.20117529, -0.64657328,\n",
       "        -0.09197127,  0.46263073,  1.01723274,  1.57183475,  2.12643675,\n",
       "         2.68103876]),\n",
       " <a list of 10 Patch objects>)"
      ]
     },
     "execution_count": 11,
     "metadata": {},
     "output_type": "execute_result"
    },
    {
     "data": {
      "image/png": "[encoded data removed]",
      "text/plain": [
       "<Figure size 432x288 with 1 Axes>"
      ]
     },
     "metadata": {
      "needs_background": "light"
     },
     "output_type": "display_data"
    }
   ],
   "source": [
    "#fit standard scaler to my training data\n",
    "std = StandardScaler()\n",
    "std.fit(X_train.values)\n",
    "\n",
    "#now apply the standard scaler to the X_train set and the X_test set\n",
    "X_tr = std.transform(X_train.values)\n",
    "X_te = std.transform(X_test.values)\n",
    "\n",
    "#and confirm that it worked\n",
    "plt.hist(X_tr[:,3])"
   ]
  },
  {
   "cell_type": "code",
   "execution_count": 12,
   "metadata": {},
   "outputs": [
    {
     "data": {
      "text/plain": [
       "Lasso(alpha=0.01)"
      ]
     },
     "execution_count": 12,
     "metadata": {},
     "output_type": "execute_result"
    }
   ],
   "source": [
    "BG_lasso = Lasso(alpha = 0.01)\n",
    "BG_lasso.fit(X_tr, y_train)"
   ]
  },
  {
   "cell_type": "code",
   "execution_count": 13,
   "metadata": {},
   "outputs": [
    {
     "data": {
      "text/plain": [
       "[('playsperowner', -0.1550062927488977),\n",
       " ('pageviewsperplay', 0.12808254148945983),\n",
       " ('playingtime', 0.29034344494150255),\n",
       " ('user_rating', 0.24689156173614799),\n",
       " ('desc_wc', 0.03667847020769444),\n",
       " ('forums', 0.08078920294496851),\n",
       " ('num_ratings', -0.020245060644934303),\n",
       " ('num_mechanics', 0.0),\n",
       " ('kickstarted', 0.022570213620193433),\n",
       " ('CardDrafting', 0.0),\n",
       " ('DiceRolling', -0.02795475507835997),\n",
       " ('HandManagement', -0.0017697643984770728),\n",
       " ('HexagonGrid', 0.0),\n",
       " ('ModularBoard', 0.0058784188735027205),\n",
       " ('SetCollection', -0.004016933289566226),\n",
       " ('Simulation', 0.06340631202190633),\n",
       " ('TilePlacement', 0.04763948044230694),\n",
       " ('VariablePlayerPowers', 0.00976500578301971),\n",
       " ('AbstractGames', 0.0),\n",
       " ('PartyGames', 0.0),\n",
       " ('StrategyGames', 0.15101558635058066),\n",
       " ('ThematicGames', 0.08843570017949738),\n",
       " ('Wargames', 0.001492759673184355)]"
      ]
     },
     "execution_count": 13,
     "metadata": {},
     "output_type": "execute_result"
    }
   ],
   "source": [
    "list(zip(Xcols, BG_lasso.coef_))"
   ]
  },
  {
   "cell_type": "code",
   "execution_count": 14,
   "metadata": {},
   "outputs": [
    {
     "data": {
      "text/plain": [
       "LassoCV(alphas=array([1.00000000e-02, 1.04737090e-02, 1.09698580e-02, 1.14895100e-02,\n",
       "       1.20337784e-02, 1.26038293e-02, 1.32008840e-02, 1.38262217e-02,\n",
       "       1.44811823e-02, 1.51671689e-02, 1.58856513e-02, 1.66381689e-02,\n",
       "       1.74263339e-02, 1.82518349e-02, 1.91164408e-02, 2.00220037e-02,\n",
       "       2.09704640e-02, 2.19638537e-02, 2.30043012e-02, 2.40940356e-02,\n",
       "       2.52353917e-02, 2.64308149e-0...\n",
       "       3.44896226e+01, 3.61234270e+01, 3.78346262e+01, 3.96268864e+01,\n",
       "       4.15040476e+01, 4.34701316e+01, 4.55293507e+01, 4.76861170e+01,\n",
       "       4.99450512e+01, 5.23109931e+01, 5.47890118e+01, 5.73844165e+01,\n",
       "       6.01027678e+01, 6.29498899e+01, 6.59318827e+01, 6.90551352e+01,\n",
       "       7.23263390e+01, 7.57525026e+01, 7.93409667e+01, 8.30994195e+01,\n",
       "       8.70359136e+01, 9.11588830e+01, 9.54771611e+01, 1.00000000e+02]),\n",
       "        cv=5)"
      ]
     },
     "execution_count": 14,
     "metadata": {},
     "output_type": "execute_result"
    }
   ],
   "source": [
    "alphavec = 10**np.linspace(-2,2,200)\n",
    "\n",
    "BG_lassoCV = LassoCV(alphas = alphavec, cv=5)\n",
    "BG_lassoCV.fit(X_tr, y_train)"
   ]
  },
  {
   "cell_type": "code",
   "execution_count": 15,
   "metadata": {},
   "outputs": [
    {
     "data": {
      "text/plain": [
       "0.020022003718155844"
      ]
     },
     "execution_count": 15,
     "metadata": {},
     "output_type": "execute_result"
    }
   ],
   "source": [
    "BG_lassoCV.alpha_"
   ]
  },
  {
   "cell_type": "code",
   "execution_count": 16,
   "metadata": {},
   "outputs": [
    {
     "data": {
      "text/plain": [
       "[('playsperowner', -0.14907872536183797),\n",
       " ('pageviewsperplay', 0.12533124286259342),\n",
       " ('playingtime', 0.28573407976107146),\n",
       " ('user_rating', 0.24700554378588732),\n",
       " ('desc_wc', 0.03196412835707614),\n",
       " ('forums', 0.07835474336306443),\n",
       " ('num_ratings', -0.010204478930828898),\n",
       " ('num_mechanics', 0.0),\n",
       " ('kickstarted', 0.013280902703895228),\n",
       " ('CardDrafting', 0.0),\n",
       " ('DiceRolling', -0.006073841358060482),\n",
       " ('HandManagement', -0.0),\n",
       " ('HexagonGrid', 0.0),\n",
       " ('ModularBoard', 0.000667388561615739),\n",
       " ('SetCollection', -0.0),\n",
       " ('Simulation', 0.048845084604980514),\n",
       " ('TilePlacement', 0.03842512256303949),\n",
       " ('VariablePlayerPowers', 0.004414120762987898),\n",
       " ('AbstractGames', 0.0),\n",
       " ('PartyGames', 0.0),\n",
       " ('StrategyGames', 0.1417928574103362),\n",
       " ('ThematicGames', 0.07286206167416648),\n",
       " ('Wargames', 0.0)]"
      ]
     },
     "execution_count": 16,
     "metadata": {},
     "output_type": "execute_result"
    }
   ],
   "source": [
    "#lassoCV coeffs\n",
    "list(zip(Xcols, BG_lassoCV.coef_))"
   ]
  },
  {
   "cell_type": "code",
   "execution_count": 17,
   "metadata": {},
   "outputs": [],
   "source": [
    "test_set_pred = BG_lassoCV.predict(X_te)"
   ]
  },
  {
   "cell_type": "code",
   "execution_count": 18,
   "metadata": {},
   "outputs": [],
   "source": [
    "#Mean Absolute Error (MAE)\n",
    "def mae(y_true, y_pred):\n",
    "    return np.mean(np.abs(y_pred - y_true))"
   ]
  },
  {
   "cell_type": "code",
   "execution_count": 19,
   "metadata": {},
   "outputs": [
    {
     "data": {
      "text/plain": [
       "0.4135576959429544"
      ]
     },
     "execution_count": 19,
     "metadata": {},
     "output_type": "execute_result"
    }
   ],
   "source": [
    "mae(y_test, test_set_pred)"
   ]
  },
  {
   "cell_type": "code",
   "execution_count": 20,
   "metadata": {},
   "outputs": [
    {
     "data": {
      "text/plain": [
       "0.5900379060139684"
      ]
     },
     "execution_count": 20,
     "metadata": {},
     "output_type": "execute_result"
    }
   ],
   "source": [
    "#r^2 from lassoCV on train/test\n",
    "r2_score(y_test, test_set_pred)"
   ]
  },
  {
   "cell_type": "code",
   "execution_count": null,
   "metadata": {},
   "outputs": [],
   "source": [
    "r2_score(y_test, test_set_pred)"
   ]
  },
  {
   "cell_type": "markdown",
   "metadata": {},
   "source": [
    "Lasso told me to get rid of a number of categories. Let's do it and fit the lasso model to the validation set."
   ]
  },
  {
   "cell_type": "code",
   "execution_count": null,
   "metadata": {},
   "outputs": [],
   "source": [
    "BG_df = BG_df.drop(['num_ratings', 'num_mechanics', 'kickstarted', 'CardDrafting',\n",
    "                    'Simulation', 'AbstractGames', 'PartyGames'])\n",
    "\n",
    "smallerXcols = (['playsperowner', 'pageviewsperplay', 'playingtime', 'user_rating', 'desc_wc', 'forums',\n",
    "                 'DiceRolling', 'HandManagement', 'HexagonGrid', 'ModularBoard', 'SetCollection', 'TilePlacement',\n",
    "                 'VariablePlayerPowers', 'StrategyGames', 'ThematicGames', 'Wargames'])"
   ]
  },
  {
   "cell_type": "code",
   "execution_count": null,
   "metadata": {},
   "outputs": [],
   "source": [
    "smallerXcols = (['playsperowner', 'pageviewsperplay', 'playingtime', 'user_rating', 'desc_wc', 'forums',\n",
    "                 'DiceRolling', 'HandManagement', 'HexagonGrid', 'ModularBoard', 'SetCollection', 'TilePlacement',\n",
    "                 'VariablePlayerPowers', 'StrategyGames', 'ThematicGames', 'Wargames'])"
   ]
  },
  {
   "cell_type": "code",
   "execution_count": null,
   "metadata": {},
   "outputs": [],
   "source": [
    "#applying the standard scaler to the newly combined train set and the validation set\n",
    "new_X_train = pd.concat([X_train, X_test])\n",
    "new_y_train = pd.concat([y_train, y_test])\n",
    "new_X_tr = std.transform(new_X_train.values)\n",
    "new_X_val = std.transform(X_val.values)"
   ]
  },
  {
   "cell_type": "code",
   "execution_count": null,
   "metadata": {
    "scrolled": true
   },
   "outputs": [],
   "source": [
    "#running a final lasso against validation\n",
    "BG_lr_model_lasso = Lasso(alpha = BG_lassoCV.alpha_)\n",
    "BG_lr_model_lasso.fit(new_X_tr, new_y_train)\n",
    "\n",
    "list(zip(X_train.columns, BG_lr_model_lasso.coef_))"
   ]
  },
  {
   "cell_type": "code",
   "execution_count": null,
   "metadata": {},
   "outputs": [],
   "source": [
    "lasso_df_for_plot = pd.DataFrame(BG_lassoCV.coef_).drop([6,7,8,9,15,18,19])\n",
    "ax = (lasso_df_for_plot.plot(kind='bar', title =\"Board Game Coefficients (alpha = 0.03827494478516311)\",\n",
    "                      figsize=(15, 10), legend=False, fontsize=12))\n",
    "ax.set_xticklabels(smallerXcols)\n",
    "plt.gcf().subplots_adjust(bottom=0.5)\n",
    "plt.savefig('coeffs_better_BG');"
   ]
  },
  {
   "cell_type": "code",
   "execution_count": null,
   "metadata": {
    "scrolled": true
   },
   "outputs": [],
   "source": [
    "BG_lassoCV.coef_"
   ]
  },
  {
   "cell_type": "code",
   "execution_count": null,
   "metadata": {},
   "outputs": [],
   "source": [
    "final_lr = BG_lassoCV()\n"
   ]
  },
  {
   "cell_type": "code",
   "execution_count": null,
   "metadata": {},
   "outputs": [],
   "source": [
    "from sklearn.linear_model import lars_path"
   ]
  },
  {
   "cell_type": "code",
   "execution_count": null,
   "metadata": {},
   "outputs": [],
   "source": [
    "std = StandardScaler()\n",
    "std.fit(X_train.values)"
   ]
  },
  {
   "cell_type": "code",
   "execution_count": null,
   "metadata": {},
   "outputs": [],
   "source": [
    "X_tr = std.transform(X_train.values)"
   ]
  },
  {
   "cell_type": "code",
   "execution_count": null,
   "metadata": {},
   "outputs": [],
   "source": [
    "alphas, _, coefs = lars_path(X_train.values, y_train.values, method='lasso')\n",
    "\n",
    "xx = np.sum(np.abs(coefs.T), axis=1)\n",
    "xx /= xx[-1]\n",
    "\n",
    "plt.figure(figsize=(10,10))\n",
    "plt.plot(xx, coefs.T)\n",
    "ymin, ymax = plt.ylim()\n",
    "plt.vlines(xx, ymin, ymax, linestyle='dashed')\n",
    "plt.xlabel('|coef| / max|coef|')\n",
    "plt.ylabel('Coefficients')\n",
    "plt.title('LASSO Path')\n",
    "plt.axis('tight')\n",
    "plt.legend(X_train.columns)\n",
    "plt.show()"
   ]
  },
  {
   "cell_type": "code",
   "execution_count": null,
   "metadata": {},
   "outputs": [],
   "source": []
  }
 ],
 "metadata": {
  "kernelspec": {
   "display_name": "Python 3",
   "language": "python",
   "name": "python3"
  },
  "language_info": {
   "codemirror_mode": {
    "name": "ipython",
    "version": 3
   },
   "file_extension": ".py",
   "mimetype": "text/x-python",
   "name": "python",
   "nbconvert_exporter": "python",
   "pygments_lexer": "ipython3",
   "version": "3.7.6"
  },
  "toc": {
   "base_numbering": 1,
   "nav_menu": {},
   "number_sections": true,
   "sideBar": true,
   "skip_h1_title": false,
   "title_cell": "Table of Contents",
   "title_sidebar": "Contents",
   "toc_cell": false,
   "toc_position": {},
   "toc_section_display": true,
   "toc_window_display": false
  },
  "varInspector": {
   "cols": {
    "lenName": 16,
    "lenType": 16,
    "lenVar": 40
   },
   "kernels_config": {
    "python": {
     "delete_cmd_postfix": "",
     "delete_cmd_prefix": "del ",
     "library": "var_list.py",
     "varRefreshCmd": "print(var_dic_list())"
    },
    "r": {
     "delete_cmd_postfix": ") ",
     "delete_cmd_prefix": "rm(",
     "library": "var_list.r",
     "varRefreshCmd": "cat(var_dic_list()) "
    }
   },
   "types_to_exclude": [
    "module",
    "function",
    "builtin_function_or_method",
    "instance",
    "_Feature"
   ],
   "window_display": false
  }
 },
 "nbformat": 4,
 "nbformat_minor": 4
}
